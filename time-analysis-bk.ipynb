{
 "cells": [
  {
   "cell_type": "markdown",
   "metadata": {},
   "source": [
    "# Setup"
   ]
  },
  {
   "cell_type": "markdown",
   "metadata": {},
   "source": [
    "installations and imports"
   ]
  },
  {
   "cell_type": "code",
   "execution_count": 2,
   "metadata": {},
   "outputs": [],
   "source": [
    "# %pip install pymysql\n",
    "# %pip install sshtunnel\n",
    "# %pip install pandas"
   ]
  },
  {
   "cell_type": "code",
   "execution_count": 3,
   "metadata": {},
   "outputs": [],
   "source": [
    "import pymysql\n",
    "from sshtunnel import SSHTunnelForwarder\n",
    "import paramiko\n",
    "from os.path import expanduser\n",
    "import pandas as pd"
   ]
  },
  {
   "cell_type": "code",
   "execution_count": 4,
   "metadata": {},
   "outputs": [],
   "source": [
    "import numpy as np"
   ]
  },
  {
   "cell_type": "code",
   "execution_count": 5,
   "metadata": {},
   "outputs": [],
   "source": [
    "import time\n",
    "import matplotlib.pyplot as plt\n",
    "import math\n",
    "import datetime"
   ]
  },
  {
   "cell_type": "markdown",
   "metadata": {},
   "source": [
    "SQL Connection vars"
   ]
  },
  {
   "cell_type": "code",
   "execution_count": 6,
   "metadata": {},
   "outputs": [],
   "source": [
    "home = expanduser('~')\n",
    "mypkey = paramiko.RSAKey.from_private_key_file( home + \"/.ssh/id_rsa\")\n",
    "\n",
    "sql_hostname = '127.0.0.1'\n",
    "sql_username = 'readonly'\n",
    "sql_password = None\n",
    "sql_main_database = 'ML3_mirror'\n",
    "sql_port = 3306\n",
    "ssh_host = 'flagon.cs.umn.edu'\n",
    "ssh_user = 'kanna128'\n",
    "ssh_port = 22\n",
    "sql_ip = '1.1.1.1.1'"
   ]
  },
  {
   "cell_type": "markdown",
   "metadata": {},
   "source": [
    "main funcs"
   ]
  },
  {
   "cell_type": "code",
   "execution_count": 7,
   "metadata": {},
   "outputs": [],
   "source": [
    "def draw_graph(values, labels, max_vals, scale):\n",
    "  bars = plt.bar(range(len(values[1])), values[1], color=(0.2, 0.4, 0.6, 0.6))\n",
    "\n",
    "  if((isinstance(scale[1], int))):\n",
    "    for bar in bars:\n",
    "      yval = bar.get_height()\n",
    "      plt.text(bar.get_x() + 0.5*bar.get_width(), yval + values[2], yval)\n",
    "\n",
    "  xticks = []\n",
    "  yticks = []\n",
    "\n",
    "  if(scale[0] != 0):\n",
    "    xmax = max_vals[0]\n",
    "    xscale = scale[0]\n",
    "    for k in np.arange(0, xmax, xscale):\n",
    "      xticks.append(k)\n",
    "    plt.xticks(xticks)\n",
    "  else:\n",
    "    plt.xticks(range(len(values[0])), values[0])\n",
    "  \n",
    "  ymax = max_vals[1]\n",
    "  yscale = scale[1]\n",
    "\n",
    "  for k in np.arange(0, ymax, yscale):\n",
    "    yticks.append(k)\n",
    "  plt.yticks(yticks)\n",
    "\n",
    "  plt.xlabel(labels[0])\n",
    "  plt.ylabel(labels[1])\n",
    "  plt.ylim(0,max_vals[1])\n",
    "\n",
    "  if(max_vals[0] != 0):\n",
    "    plt.xlim(0, max_vals[0])\n",
    "  \n",
    "  plt.show()"
   ]
  },
  {
   "cell_type": "markdown",
   "metadata": {},
   "source": [
    "global vars"
   ]
  },
  {
   "cell_type": "code",
   "execution_count": 8,
   "metadata": {},
   "outputs": [],
   "source": [
    "BASELINE = \"{\\\"engineId\\\":\\\"baseline\\\"}\"\n",
    "ITEM_ITEM = \"{\\\"engineId\\\":\\\"item-item\\\"}\"\n",
    "SVD = \"{\\\"engineId\\\":\\\"svd\\\"}\"\n",
    "PICK_GROUPS = \"{\\\"engineId\\\":\\\"pick-groups\\\"}\"\n",
    "\n",
    "LONG_TO_SHORT = {BASELINE: \"baseline\", ITEM_ITEM: \"item-item\", SVD:\"svd\", PICK_GROUPS: \"pick-groups\"}\n",
    "SHORT_TO_LONG = {\"baseline\": BASELINE, \"item-item\":ITEM_ITEM, \"svd\":SVD, \"pick-groups\":PICK_GROUPS}"
   ]
  },
  {
   "cell_type": "code",
   "execution_count": 9,
   "metadata": {},
   "outputs": [],
   "source": [
    "################################################## FIG_2 #######################################################\n",
    "\n",
    "def fig_3(recchange_dict, changes_dict):\n",
    "    # count_dict: key=algorithm, val=(no. of users initially assigned, no. of users initially assigned and switched at least once)\n",
    "    count_dict = {\"baseline\":[0,0], \"item-item\":[0,0], \"svd\":[0,0], \"pick-groups\":[0,0]}\n",
    "    for userId,recalg_list in recchange_dict.items():\n",
    "        recalg = LONG_TO_SHORT[recalg_list[0]]\n",
    "        count_dict[recalg][0] +=1\n",
    "        if userId in changes_dict.keys():\n",
    "            count_dict[recalg][1] += 1\n",
    "    \n",
    "    baseline = count_dict[\"baseline\"][1]/count_dict[\"baseline\"][0]\n",
    "    item_item = count_dict[\"item-item\"][1]/count_dict[\"item-item\"][0]\n",
    "    svd = count_dict[\"svd\"][1]/count_dict[\"svd\"][0]\n",
    "\n",
    "    values = [[\"baseline\", \"item-item\", \"svd\"], [baseline, item_item, svd], 0.01]\n",
    "    return (count_dict, values)\n",
    "\n",
    "############################################## TABLE_2 #########################################################\n",
    "\n",
    "def table_2(changes_dict, count_dict):\n",
    "  changes_dict = {id:list for id,list in changes_dict.items() if len(list)>1}\n",
    "  patterns = {}\n",
    "  for id, list in changes_dict.items():\n",
    "    new_list = []\n",
    "    for alg in list:\n",
    "      new_alg = LONG_TO_SHORT[alg]\n",
    "      new_list.append(new_alg)\n",
    "    recalg_tup = tuple(new_list)\n",
    "    changes_dict[id] = recalg_tup\n",
    "    patterns[recalg_tup] = 0\n",
    "    \n",
    "  for recalg_tup in changes_dict.values():\n",
    "    patterns[recalg_tup] += 1\n",
    "  \n",
    "  patterns_found = set()\n",
    "\n",
    "  for id, recalg_tup in changes_dict.items():\n",
    "    initial = recalg_tup[0]\n",
    "    count = 0\n",
    "    if recalg_tup in patterns.keys():\n",
    "      count = patterns[recalg_tup]\n",
    "    if(count>7 and count<53):\n",
    "      percentage = (count/count_dict[initial][1])*100\n",
    "      pattern_info = (\"pattern: {} | count: {} | percentage: {}\".format(recalg_tup, count, percentage))\n",
    "      patterns_found.add(pattern_info)\n",
    "  \n",
    "  for item in patterns_found:\n",
    "    print(item)\n",
    "\n",
    "################################################# FIG_4 ########################################################\n",
    "\n",
    "def fig_4(changes_dict, range):\n",
    "    transitions_dict = {}\n",
    "    \n",
    "    # range check -- running it on data where the range is outside of 20\n",
    "    # accepting the broadest possible input | returning the most specific answer\n",
    "    # for k in range(20):\n",
    "    #     transitions_dict[k+1] = 0\n",
    "    lower_bound = range[0]\n",
    "    upper_bound = range[1]\n",
    "    for list in changes_dict.values():\n",
    "        transition_count = len(list) - 1\n",
    "        if transition_count>lower_bound and transition_count<upper_bound: \n",
    "            transitions_dict[transition_count] = 1 + transitions_dict.get(transition_count, 0)\n",
    "    return transitions_dict\n",
    "\n",
    "######################################## SSH_CONNECTION #################################################\n",
    "\n",
    "def SSH_connection(query):\n",
    "  with SSHTunnelForwarder(\n",
    "        (ssh_host, ssh_port),\n",
    "        ssh_username=ssh_user,\n",
    "        ssh_pkey=mypkey,\n",
    "        remote_bind_address=(sql_hostname, sql_port)) as tunnel:\n",
    "    conn = pymysql.connect(host='127.0.0.1', user=sql_username,\n",
    "                            passwd=sql_password, db=sql_main_database,\n",
    "                            port=tunnel.local_bind_port)\n",
    "    print('connection done')\n",
    "    df_result = pd.read_sql_query(query,conn)\n",
    "  \n",
    "  return df_result\n",
    "\n",
    "#################################################################################################################"
   ]
  },
  {
   "cell_type": "markdown",
   "metadata": {},
   "source": [
    "primary_dicts()"
   ]
  },
  {
   "cell_type": "code",
   "execution_count": 10,
   "metadata": {},
   "outputs": [],
   "source": [
    "########################################### PRIMARY_DICTS #######################################################\n",
    "\n",
    "def primary_dicts(users, change_events, fields, tstamps_dict):\n",
    "    \n",
    "    uid = fields[0]\n",
    "    begin = fields[1]\n",
    "    \n",
    "    pattern_list_dict = {} # dict to store key=userId, val=curralg in the iteration process\n",
    "    tstamps_diffs_dict = {} # key=userId, val=recchange tstamps differences list\n",
    "\n",
    "    for item, row in users.iterrows():\n",
    "      pattern_list_dict[ row[uid] ] = [ SHORT_TO_LONG[row[begin]] ]\n",
    "\n",
    "    changes_dict = {} # needed to later calculate median changes per user\n",
    "    cmp_field = fields[2]\n",
    "    tstamp_field = fields[3]\n",
    "\n",
    "    # other_users = set()\n",
    "    # loop to count number of changes correctly; comparing next with prev algorithm\n",
    "    for index, row in change_events.iterrows():\n",
    "      userId = row[uid]\n",
    "      item_to_cmp = row[cmp_field]\n",
    "\n",
    "      if(pattern_list_dict[userId][-1] != item_to_cmp):\n",
    "        changes_dict[userId] = 1 + changes_dict.get(userId, 0)\n",
    "        \n",
    "        diff = row[tstamp_field] - tstamps_dict[userId]\n",
    "        tstamps_diffs_dict[userId] = diff.total_seconds()\n",
    "      \n",
    "        pattern_list_dict[userId].append(item_to_cmp)\n",
    "    \n",
    "\n",
    "    tstamps_diffs_dict_alt = {key:val for key,val in tstamps_diffs_dict.items() if val<3600}\n",
    "    # tstamps_diffs_dict = {key:val for key,val in tstamps_diffs_dict.items() if changes_dict[key] <= 3}\n",
    "    \n",
    "    return (changes_dict, tstamps_diffs_dict_alt, pattern_list_dict, tstamps_diffs_dict)\n"
   ]
  },
  {
   "cell_type": "markdown",
   "metadata": {},
   "source": [
    "queries: no. of users | change_events"
   ]
  },
  {
   "cell_type": "code",
   "execution_count": 13,
   "metadata": {},
   "outputs": [
    {
     "name": "stdout",
     "output_type": "stream",
     "text": [
      "connection done\n",
      "Users: 3005\n"
     ]
    }
   ],
   "source": [
    "# CALCULATING NUMBER OF USERS \n",
    "query_users = ''' SELECT expt_user.group, expt_user.userId from ML3_mirror.expt_user WHERE \n",
    "                exptId = 'listcmp-long' AND started <'2015-04-01' \n",
    "                AND status = 'RANDOMLY_ASSIGNED' '''\n",
    "users = SSH_connection(query_users)\n",
    "print(\"Users: {}\".format(users.shape[0]))"
   ]
  },
  {
   "cell_type": "code",
   "execution_count": 14,
   "metadata": {},
   "outputs": [
    {
     "name": "stdout",
     "output_type": "stream",
     "text": [
      "connection done\n",
      "query done\n",
      "12009\n"
     ]
    }
   ],
   "source": [
    "# NUMBER OF CHANGE EVENTS \n",
    "query_change = ''' SELECT userId, logJson, tstamp, action from ML3_mirror.log_action WHERE EXISTS \n",
    "                (SELECT userId from ML3_mirror.expt_user where expt_user.userId = log_action.userId \n",
    "                AND expt_user.exptId='listcmp-long' \n",
    "                AND expt_user.status='RANDOMLY_ASSIGNED') \n",
    "                AND log_action.action='recommender-change' \n",
    "                AND log_action.tstamp<'2015-04-01' AND log_action.tstamp>='2014-11-04' ORDER BY log_action.tstamp '''\n",
    "change_events = SSH_connection(query_change)\n",
    "print(\"query done\")\n",
    "print(change_events.shape[0])"
   ]
  },
  {
   "cell_type": "code",
   "execution_count": 17,
   "metadata": {},
   "outputs": [
    {
     "name": "stdout",
     "output_type": "stream",
     "text": [
      "2014-11-04 14:55:18\n",
      "2015-03-31 21:37:24\n"
     ]
    }
   ],
   "source": [
    "print(change_events['tstamp'].min())\n",
    "print(change_events['tstamp'].max())"
   ]
  },
  {
   "cell_type": "markdown",
   "metadata": {},
   "source": [
    "# Paper results"
   ]
  },
  {
   "cell_type": "markdown",
   "metadata": {},
   "source": [
    "figures and tables"
   ]
  },
  {
   "cell_type": "code",
   "execution_count": null,
   "metadata": {},
   "outputs": [],
   "source": [
    "# SETTING UP DICTS \n",
    "dicts = primary_dicts(users, change_events, ('userId', 'group', 'logJson'))\n",
    "changes_dict = dicts[0]\n",
    "recchange_dict = dicts[1]\n",
    "\n",
    "\n",
    "# TABLE 1\n",
    "print(\"Recommender change events: \", sum(changes_dict.values()))\n",
    "changes_dict = {key:val for key,val in changes_dict.items() if val !=0}\n",
    "print(\"Users switching at least once: \", len(changes_dict.values()))\n",
    "print(\"Median changes per user w/ at least 1 change: \", int(np.median(list(changes_dict.values()))))"
   ]
  },
  {
   "cell_type": "code",
   "execution_count": null,
   "metadata": {},
   "outputs": [],
   "source": [
    "# FIGURE 3 \n",
    "func_out = fig_3(recchange_dict, changes_dict)\n",
    "values = func_out[1]\n",
    "count_dict = func_out[0]\n",
    "draw_graph(values, [\"Initial Algorithm\", \"Proportion of Users Switching\"], [0, 0.35], [0, 0.1])"
   ]
  },
  {
   "cell_type": "code",
   "execution_count": null,
   "metadata": {},
   "outputs": [],
   "source": [
    "# TABLE 2 \n",
    "table_2(recchange_dict, count_dict)"
   ]
  },
  {
   "cell_type": "code",
   "execution_count": null,
   "metadata": {},
   "outputs": [],
   "source": [
    "# FIGURE 2\n",
    "for key in count_dict.keys():\n",
    "    count_dict[key] = 0\n",
    "\n",
    "for userId, recalg_tup in recchange_dict.items():\n",
    "    if(userId in changes_dict.keys()):\n",
    "        alg = LONG_TO_SHORT[recalg_tup[-1]]\n",
    "        count_dict[alg] += 1\n",
    "\n",
    "values = [[\"baseline\", \"item-item\", \"pick-groups\", \"svd\"], \n",
    "        [count_dict[\"baseline\"], count_dict[\"item-item\"], \n",
    "        count_dict[\"pick-groups\"], count_dict[\"svd\"]], \n",
    "        8]\n",
    "draw_graph(values, [\"Final Selected Algorithm\", \"# of users\"], [0, 400], [0, 100])\n",
    "\n",
    "# FIGURE 4\n",
    "func_out = fig_4(recchange_dict, (0, 20))\n",
    "plt.hist(func_out.keys(), weights=func_out.values(), bins = range(21))\n",
    "plt.show()"
   ]
  },
  {
   "cell_type": "markdown",
   "metadata": {},
   "source": [
    "TEST row count"
   ]
  },
  {
   "cell_type": "code",
   "execution_count": 118,
   "metadata": {},
   "outputs": [
    {
     "name": "stdout",
     "output_type": "stream",
     "text": [
      "connection done\n",
      "   count(*)\n",
      "0    621277\n"
     ]
    }
   ],
   "source": [
    "# TEST\n",
    "query_time = '''SELECT count(*) from ML3_mirror.log_action WHERE EXISTS \n",
    "                (SELECT userId from ML3_mirror.expt_user where expt_user.userId = log_action.userId \n",
    "                AND expt_user.exptId='listcmp-long' \n",
    "                AND expt_user.status='RANDOMLY_ASSIGNED')\n",
    "                AND log_action.tstamp<'2015-04-01' ORDER BY userId'''\n",
    "# query_time = ''' SELECT userId,tstamp from ML3_mirror.log_action limit 10 '''\n",
    "transition_times = SSH_connection(query_time)\n",
    "print(transition_times)\n",
    "# rows = transition_times.shape[0]\n",
    "\n",
    "# 621277 rows"
   ]
  },
  {
   "cell_type": "markdown",
   "metadata": {},
   "source": [
    "remove_items()"
   ]
  },
  {
   "cell_type": "code",
   "execution_count": 18,
   "metadata": {},
   "outputs": [],
   "source": [
    "def remove_items(dict_in, desired_diff):\n",
    "    dict_diffs = dict_in\n",
    "    for key,val in dict_diffs.items():\n",
    "        if val>desired_diff:\n",
    "            dict_diffs.pop(key)\n",
    "    return len(dict_diffs.keys())"
   ]
  },
  {
   "cell_type": "markdown",
   "metadata": {},
   "source": [
    "# Time calculations"
   ]
  },
  {
   "cell_type": "markdown",
   "metadata": {},
   "source": [
    "query: with user_login table - start times"
   ]
  },
  {
   "cell_type": "code",
   "execution_count": 16,
   "metadata": {},
   "outputs": [
    {
     "name": "stdout",
     "output_type": "stream",
     "text": [
      "connection done\n"
     ]
    },
    {
     "data": {
      "text/html": [
       "<div>\n",
       "<style scoped>\n",
       "    .dataframe tbody tr th:only-of-type {\n",
       "        vertical-align: middle;\n",
       "    }\n",
       "\n",
       "    .dataframe tbody tr th {\n",
       "        vertical-align: top;\n",
       "    }\n",
       "\n",
       "    .dataframe thead th {\n",
       "        text-align: right;\n",
       "    }\n",
       "</style>\n",
       "<table border=\"1\" class=\"dataframe\">\n",
       "  <thead>\n",
       "    <tr style=\"text-align: right;\">\n",
       "      <th></th>\n",
       "      <th>userId</th>\n",
       "      <th>tstamp</th>\n",
       "    </tr>\n",
       "  </thead>\n",
       "  <tbody>\n",
       "    <tr>\n",
       "      <th>0</th>\n",
       "      <td>12559</td>\n",
       "      <td>2015-07-01 23:56:16</td>\n",
       "    </tr>\n",
       "    <tr>\n",
       "      <th>1</th>\n",
       "      <td>15226</td>\n",
       "      <td>2015-01-06 08:12:22</td>\n",
       "    </tr>\n",
       "    <tr>\n",
       "      <th>2</th>\n",
       "      <td>16783</td>\n",
       "      <td>2015-03-11 15:30:34</td>\n",
       "    </tr>\n",
       "    <tr>\n",
       "      <th>3</th>\n",
       "      <td>26229</td>\n",
       "      <td>2014-11-05 19:35:48</td>\n",
       "    </tr>\n",
       "    <tr>\n",
       "      <th>4</th>\n",
       "      <td>29340</td>\n",
       "      <td>2014-12-16 18:20:00</td>\n",
       "    </tr>\n",
       "  </tbody>\n",
       "</table>\n",
       "</div>"
      ],
      "text/plain": [
       "   userId              tstamp\n",
       "0   12559 2015-07-01 23:56:16\n",
       "1   15226 2015-01-06 08:12:22\n",
       "2   16783 2015-03-11 15:30:34\n",
       "3   26229 2014-11-05 19:35:48\n",
       "4   29340 2014-12-16 18:20:00"
      ]
     },
     "execution_count": 16,
     "metadata": {},
     "output_type": "execute_result"
    }
   ],
   "source": [
    "query_users = ''' SELECT userId, MIN(tstamp) as tstamp from ML3_mirror.user_login WHERE EXISTS \n",
    "                  (SELECT userId from ML3_mirror.expt_user where expt_user.userId = user_login.userId \n",
    "                  AND expt_user.exptId='listcmp-long' \n",
    "                  AND expt_user.status='RANDOMLY_ASSIGNED') GROUP BY userId '''\n",
    "start_times_raw = SSH_connection(query_users)\n",
    "start_times_raw.head()"
   ]
  },
  {
   "cell_type": "markdown",
   "metadata": {},
   "source": [
    "query: with log_action - first_logs"
   ]
  },
  {
   "cell_type": "code",
   "execution_count": 24,
   "metadata": {},
   "outputs": [
    {
     "name": "stdout",
     "output_type": "stream",
     "text": [
      "connection done\n"
     ]
    },
    {
     "data": {
      "text/html": [
       "<div>\n",
       "<style scoped>\n",
       "    .dataframe tbody tr th:only-of-type {\n",
       "        vertical-align: middle;\n",
       "    }\n",
       "\n",
       "    .dataframe tbody tr th {\n",
       "        vertical-align: top;\n",
       "    }\n",
       "\n",
       "    .dataframe thead th {\n",
       "        text-align: right;\n",
       "    }\n",
       "</style>\n",
       "<table border=\"1\" class=\"dataframe\">\n",
       "  <thead>\n",
       "    <tr style=\"text-align: right;\">\n",
       "      <th></th>\n",
       "      <th>userId</th>\n",
       "      <th>tstamp</th>\n",
       "    </tr>\n",
       "  </thead>\n",
       "  <tbody>\n",
       "    <tr>\n",
       "      <th>0</th>\n",
       "      <td>15226</td>\n",
       "      <td>2015-01-06 08:12:23</td>\n",
       "    </tr>\n",
       "    <tr>\n",
       "      <th>1</th>\n",
       "      <td>16783</td>\n",
       "      <td>2015-03-11 15:30:34</td>\n",
       "    </tr>\n",
       "    <tr>\n",
       "      <th>2</th>\n",
       "      <td>26229</td>\n",
       "      <td>2014-11-05 19:35:48</td>\n",
       "    </tr>\n",
       "    <tr>\n",
       "      <th>3</th>\n",
       "      <td>29340</td>\n",
       "      <td>2014-12-16 18:20:00</td>\n",
       "    </tr>\n",
       "    <tr>\n",
       "      <th>4</th>\n",
       "      <td>32451</td>\n",
       "      <td>2014-11-06 12:24:22</td>\n",
       "    </tr>\n",
       "  </tbody>\n",
       "</table>\n",
       "</div>"
      ],
      "text/plain": [
       "   userId              tstamp\n",
       "0   15226 2015-01-06 08:12:23\n",
       "1   16783 2015-03-11 15:30:34\n",
       "2   26229 2014-11-05 19:35:48\n",
       "3   29340 2014-12-16 18:20:00\n",
       "4   32451 2014-11-06 12:24:22"
      ]
     },
     "execution_count": 24,
     "metadata": {},
     "output_type": "execute_result"
    }
   ],
   "source": [
    "query = ''' SELECT userId, MIN(tstamp) as tstamp from ML3_mirror.log_action WHERE EXISTS \n",
    "            (SELECT userId from ML3_mirror.expt_user where expt_user.userId = log_action.userId \n",
    "            AND expt_user.exptId='listcmp-long' \n",
    "            AND expt_user.status='RANDOMLY_ASSIGNED') \n",
    "            AND log_action.tstamp<'2015-04-01' AND log_action.tstamp>='2014-11-04' GROUP BY userId '''\n",
    "first_logs = SSH_connection(query)\n",
    "first_logs.head()\n",
    "\n",
    "# 7m 4.9s\n",
    "# 11m 5.3s"
   ]
  },
  {
   "cell_type": "markdown",
   "metadata": {},
   "source": [
    "query: first_logs_alt"
   ]
  },
  {
   "cell_type": "code",
   "execution_count": 11,
   "metadata": {},
   "outputs": [
    {
     "name": "stdout",
     "output_type": "stream",
     "text": [
      "connection done\n"
     ]
    },
    {
     "data": {
      "text/html": [
       "<div>\n",
       "<style scoped>\n",
       "    .dataframe tbody tr th:only-of-type {\n",
       "        vertical-align: middle;\n",
       "    }\n",
       "\n",
       "    .dataframe tbody tr th {\n",
       "        vertical-align: top;\n",
       "    }\n",
       "\n",
       "    .dataframe thead th {\n",
       "        text-align: right;\n",
       "    }\n",
       "</style>\n",
       "<table border=\"1\" class=\"dataframe\">\n",
       "  <thead>\n",
       "    <tr style=\"text-align: right;\">\n",
       "      <th></th>\n",
       "      <th>userId</th>\n",
       "      <th>tstamp</th>\n",
       "    </tr>\n",
       "  </thead>\n",
       "  <tbody>\n",
       "    <tr>\n",
       "      <th>0</th>\n",
       "      <td>15226</td>\n",
       "      <td>2015-01-06 08:12:23</td>\n",
       "    </tr>\n",
       "    <tr>\n",
       "      <th>1</th>\n",
       "      <td>16783</td>\n",
       "      <td>2015-03-11 15:30:34</td>\n",
       "    </tr>\n",
       "    <tr>\n",
       "      <th>2</th>\n",
       "      <td>26229</td>\n",
       "      <td>2014-11-05 19:35:48</td>\n",
       "    </tr>\n",
       "    <tr>\n",
       "      <th>3</th>\n",
       "      <td>29340</td>\n",
       "      <td>2014-12-16 18:20:00</td>\n",
       "    </tr>\n",
       "    <tr>\n",
       "      <th>4</th>\n",
       "      <td>32451</td>\n",
       "      <td>2014-11-06 12:24:22</td>\n",
       "    </tr>\n",
       "  </tbody>\n",
       "</table>\n",
       "</div>"
      ],
      "text/plain": [
       "   userId              tstamp\n",
       "0   15226 2015-01-06 08:12:23\n",
       "1   16783 2015-03-11 15:30:34\n",
       "2   26229 2014-11-05 19:35:48\n",
       "3   29340 2014-12-16 18:20:00\n",
       "4   32451 2014-11-06 12:24:22"
      ]
     },
     "execution_count": 11,
     "metadata": {},
     "output_type": "execute_result"
    }
   ],
   "source": [
    "query = ''' SELECT la.userId, MIN(tstamp) as tstamp FROM ML3_mirror.log_action la INNER JOIN ML3_mirror.expt_user \n",
    "            eu ON eu.userId = la.userId WHERE eu.exptId='listcmp-long' AND eu.status='RANDOMLY_ASSIGNED' \n",
    "            AND la.tstamp<'2015-04-01' AND la.tstamp>='2014-11-04' GROUP BY la.userId '''\n",
    "first_logs_alt = SSH_connection(query)\n",
    "first_logs_alt.head()\n",
    "\n",
    "\n",
    "\n",
    "# 1m 33.7s\n",
    "# 50.5s"
   ]
  },
  {
   "cell_type": "code",
   "execution_count": 12,
   "metadata": {},
   "outputs": [
    {
     "name": "stdout",
     "output_type": "stream",
     "text": [
      "2014-11-04 14:53:16\n"
     ]
    }
   ],
   "source": [
    "# first_logs.shape[0] # 2999\n",
    "# start_times_raw.shape[0] # 3776\n",
    "\n",
    "# first_logs_dict = first_logs.set_index('userId').to_dict()['tstamp']\n",
    "# change_events.head(20)\n",
    "\n",
    "# print(first_logs_dict[251465])\n",
    "\n",
    "first_logs_alt_dict = first_logs_alt.set_index('userId').to_dict()['tstamp']\n",
    "print(first_logs_alt_dict[251465])\n",
    "# print(first_logs_alt_dict[247359])"
   ]
  },
  {
   "cell_type": "markdown",
   "metadata": {},
   "source": [
    "% switched in 1st hour"
   ]
  },
  {
   "cell_type": "code",
   "execution_count": 15,
   "metadata": {},
   "outputs": [
    {
     "name": "stdout",
     "output_type": "stream",
     "text": [
      "325\n",
      "43.44919786096257\n"
     ]
    }
   ],
   "source": [
    "actual_changes = primary_dicts(users, change_events, ('userId', 'group', 'logJson', 'tstamp'), first_logs_alt_dict)\n",
    "tstamps_dict = actual_changes[1]\n",
    "\n",
    "print(len(tstamps_dict.keys()))\n",
    "print((len(tstamps_dict.keys())/748)*100 )\n",
    "\n",
    "tstamps_dict_alt = actual_changes[3]\n",
    "tstamps_dict_alt = {key:val/3600 for key,val in tstamps_dict_alt.items()}\n",
    "\n",
    "# x=0\n",
    "# for key,val in tstamps_dict.items():\n",
    "#     if val>=1000 and val<=1500:\n",
    "#         x += 1\n",
    "\n"
   ]
  },
  {
   "cell_type": "markdown",
   "metadata": {},
   "source": [
    "histograms: first rec change times"
   ]
  },
  {
   "cell_type": "code",
   "execution_count": 46,
   "metadata": {},
   "outputs": [
    {
     "data": {
      "image/png": "[encoded data removed]",
      "text/plain": [
       "<Figure size 432x288 with 1 Axes>"
      ]
     },
     "metadata": {
      "needs_background": "light"
     },
     "output_type": "display_data"
    },
    {
     "data": {
      "image/png": "[encoded data removed]",
      "text/plain": [
       "<Figure size 432x288 with 1 Axes>"
      ]
     },
     "metadata": {
      "needs_background": "light"
     },
     "output_type": "display_data"
    }
   ],
   "source": [
    "# plt.hist(tstamps_dict.values(), bins=[0, 500, 1000, 1500, 2000, 2500, 3000, 3500])\n",
    "# plt.xlabel(\"Time taken for the 1st rec change (seconds)\")\n",
    "# plt.ylabel(\"Number of users\")\n",
    "# plt.show()\n",
    "\n",
    "bins_list = []\n",
    "for k in range(0, 3900, 20):\n",
    "    bins_list.append(k)\n",
    "\n",
    "plt.hist(tstamps_dict_alt.values(), bins=bins_list)\n",
    "plt.xlabel(\"Time taken for the 1st rec change (hours)\")\n",
    "plt.ylabel(\"Number of users\")\n",
    "plt.show()\n",
    "\n",
    "bins_list = []\n",
    "k=0\n",
    "while k<5:\n",
    "    bins_list.append(k)\n",
    "    k+=0.2\n",
    "\n",
    "logs_list = []\n",
    "for item in tstamps_dict_alt.values():\n",
    "    logs_list.append(np.log10(item))\n",
    "\n",
    "# print(len(logs_list))\n",
    "\n",
    "# print(bins_list)\n",
    "# print(min(tstamps_dict_alt.values()))\n",
    "# print(max(tstamps_dict_alt.values()))\n",
    "plt.hist(logs_list, bins= bins_list)\n",
    "plt.xlabel(\"Time taken for the 1st rec change (hours)/log10\")\n",
    "plt.ylabel(\"Number of users\")\n",
    "plt.show()\n",
    "# print(x)"
   ]
  },
  {
   "cell_type": "markdown",
   "metadata": {},
   "source": [
    "query: all_logs"
   ]
  },
  {
   "cell_type": "code",
   "execution_count": 20,
   "metadata": {},
   "outputs": [
    {
     "name": "stdout",
     "output_type": "stream",
     "text": [
      "connection done\n",
      "621189\n"
     ]
    },
    {
     "data": {
      "text/html": [
       "<div>\n",
       "<style scoped>\n",
       "    .dataframe tbody tr th:only-of-type {\n",
       "        vertical-align: middle;\n",
       "    }\n",
       "\n",
       "    .dataframe tbody tr th {\n",
       "        vertical-align: top;\n",
       "    }\n",
       "\n",
       "    .dataframe thead th {\n",
       "        text-align: right;\n",
       "    }\n",
       "</style>\n",
       "<table border=\"1\" class=\"dataframe\">\n",
       "  <thead>\n",
       "    <tr style=\"text-align: right;\">\n",
       "      <th></th>\n",
       "      <th>userId</th>\n",
       "      <th>logJson</th>\n",
       "      <th>tstamp</th>\n",
       "      <th>action</th>\n",
       "    </tr>\n",
       "  </thead>\n",
       "  <tbody>\n",
       "    <tr>\n",
       "      <th>0</th>\n",
       "      <td>251465</td>\n",
       "      <td>{\"pageName\":\"restricted.listcmpLongIntro\",\"par...</td>\n",
       "      <td>2014-11-04 14:53:16</td>\n",
       "      <td>pageview</td>\n",
       "    </tr>\n",
       "    <tr>\n",
       "      <th>1</th>\n",
       "      <td>251465</td>\n",
       "      <td>{\"pageName\":\"base.frontpage\",\"params\":{}}</td>\n",
       "      <td>2014-11-04 14:53:46</td>\n",
       "      <td>pageview</td>\n",
       "    </tr>\n",
       "    <tr>\n",
       "      <th>2</th>\n",
       "      <td>251465</td>\n",
       "      <td>{\"pageName\":\"base.pickGroups\",\"params\":{}}</td>\n",
       "      <td>2014-11-04 14:54:13</td>\n",
       "      <td>pageview</td>\n",
       "    </tr>\n",
       "    <tr>\n",
       "      <th>3</th>\n",
       "      <td>251465</td>\n",
       "      <td>{\"engineId\":\"pick-groups\"}</td>\n",
       "      <td>2014-11-04 14:55:18</td>\n",
       "      <td>recommender-change</td>\n",
       "    </tr>\n",
       "    <tr>\n",
       "      <th>4</th>\n",
       "      <td>251465</td>\n",
       "      <td>{\"pageName\":\"base.frontpage\",\"params\":{}}</td>\n",
       "      <td>2014-11-04 14:55:19</td>\n",
       "      <td>pageview</td>\n",
       "    </tr>\n",
       "  </tbody>\n",
       "</table>\n",
       "</div>"
      ],
      "text/plain": [
       "   userId                                            logJson  \\\n",
       "0  251465  {\"pageName\":\"restricted.listcmpLongIntro\",\"par...   \n",
       "1  251465          {\"pageName\":\"base.frontpage\",\"params\":{}}   \n",
       "2  251465         {\"pageName\":\"base.pickGroups\",\"params\":{}}   \n",
       "3  251465                         {\"engineId\":\"pick-groups\"}   \n",
       "4  251465          {\"pageName\":\"base.frontpage\",\"params\":{}}   \n",
       "\n",
       "               tstamp              action  \n",
       "0 2014-11-04 14:53:16            pageview  \n",
       "1 2014-11-04 14:53:46            pageview  \n",
       "2 2014-11-04 14:54:13            pageview  \n",
       "3 2014-11-04 14:55:18  recommender-change  \n",
       "4 2014-11-04 14:55:19            pageview  "
      ]
     },
     "execution_count": 20,
     "metadata": {},
     "output_type": "execute_result"
    }
   ],
   "source": [
    "query_sessions = ''' SELECT userId, logJson, tstamp, action from ML3_mirror.log_action WHERE EXISTS \n",
    "                (SELECT userId from ML3_mirror.expt_user where expt_user.userId = log_action.userId \n",
    "                AND expt_user.exptId='listcmp-long' \n",
    "                AND expt_user.status='RANDOMLY_ASSIGNED')\n",
    "                AND log_action.tstamp<'2015-04-01' AND log_action.tstamp>='2014-11-04' ORDER BY log_action.tstamp ''' \n",
    "all_logs = SSH_connection(query_sessions)\n",
    "print(all_logs.shape[0])\n",
    "all_logs.head()\n",
    "\n",
    "#5m 35.9s\n",
    "#4m 22.1s"
   ]
  },
  {
   "cell_type": "code",
   "execution_count": 54,
   "metadata": {},
   "outputs": [
    {
     "name": "stdout",
     "output_type": "stream",
     "text": [
      "connection done\n",
      "621189\n"
     ]
    }
   ],
   "source": [
    "query_sessions = ''' SELECT la.userId, la.logJson, la.tstamp, la.action from ML3_mirror.log_action la INNER JOIN ML3_mirror.expt_user eu\n",
    "                     ON eu.userId=la.userId WHERE eu.exptId='listcmp-long' AND eu.status='RANDOMLY_ASSIGNED' \n",
    "                     AND la.tstamp<'2015-04-01' AND la.tstamp>='2014-11-04' ORDER BY la.tstamp '''\n",
    "all_logs = SSH_connection(query_sessions)\n",
    "print(all_logs.shape[0])"
   ]
  },
  {
   "cell_type": "markdown",
   "metadata": {},
   "source": [
    "sesion_count()"
   ]
  },
  {
   "cell_type": "code",
   "execution_count": 51,
   "metadata": {},
   "outputs": [],
   "source": [
    "def session_count(user_logs, tstamps_dict, fields):\n",
    "    id_field = fields[0]\n",
    "    time_field = fields[1]\n",
    "    action_field = fields[2]\n",
    "\n",
    "    sessions_dict = {}\n",
    "\n",
    "    keys = tstamps_dict.keys()\n",
    "    \n",
    "    # key=userId, val=list; index+1 is the session number, value at index is the number of rec changes during that session\n",
    "    # rec_changes_dict = dict.fromkeys(keys, [0]) \n",
    "    rec_changes_dict = {key:[0] for key in keys}\n",
    "\n",
    "    for index,row in user_logs.iterrows():\n",
    "        unique_id = row[id_field]\n",
    "        action = row[action_field]\n",
    "\n",
    "        diff = row[time_field] - tstamps_dict[unique_id]\n",
    "        if diff.total_seconds() > 3600:\n",
    "            sessions_dict[unique_id] = 1 + sessions_dict.get(unique_id, 1)\n",
    "        else:\n",
    "            sessions_dict[unique_id] = sessions_dict.get(unique_id, 1)\n",
    "        \n",
    "        if action == \"recommender-change\":\n",
    "            session_num = sessions_dict[unique_id]\n",
    "            val = rec_changes_dict[unique_id]\n",
    "            \n",
    "            if len(val) == session_num - 1:\n",
    "                rec_changes_dict[unique_id].append(1)\n",
    "            elif len(val)<session_num -1:\n",
    "                val[len(val):session_num-1] = [0] * ((session_num)-len(val))\n",
    "                val.append(1)\n",
    "                rec_changes_dict[unique_id] = val\n",
    "            else:\n",
    "                rec_changes_dict[unique_id][session_num - 1] += 1\n",
    "\n",
    "        tstamps_dict[unique_id] = row[time_field]\n",
    "    \n",
    "    rec_changes_dict = {key:val for key,val in rec_changes_dict.items() if len(val)>1 or val[0]!=0}\n",
    "\n",
    "    return (sessions_dict, rec_changes_dict)"
   ]
  },
  {
   "cell_type": "code",
   "execution_count": 55,
   "metadata": {},
   "outputs": [],
   "source": [
    "import statistics as st"
   ]
  },
  {
   "cell_type": "code",
   "execution_count": 60,
   "metadata": {},
   "outputs": [],
   "source": [
    "dictionaries = session_count(all_logs, first_logs_alt_dict, ('userId', 'tstamp', 'action'))\n",
    "recchanges = dictionaries[1]\n",
    "sessions = dictionaries[0]\n",
    "\n",
    "k=0\n",
    "further_sessions = {}\n",
    "for key,val in recchanges.items():\n",
    "    if len(val)==1 :\n",
    "        k += 1\n",
    "        further_sessions[key] = sessions[key] - len(val)\n",
    "\n"
   ]
  },
  {
   "cell_type": "code",
   "execution_count": 62,
   "metadata": {},
   "outputs": [
    {
     "name": "stdout",
     "output_type": "stream",
     "text": [
      "47 % of users only switched recommenders during their first session \n",
      "Mean number of sessions after switch:  8\n",
      "Median of number of sessions after switch:  2\n"
     ]
    }
   ],
   "source": [
    "# print(k)\n",
    "print(round(k*100/748),\"% of users only switched recommenders during their first session \")\n",
    "print(\"Mean number of sessions after switch: \", round(st.mean(further_sessions.values())))\n",
    "print(\"Median of number of sessions after switch: \", round(st.median(further_sessions.values())))\n",
    "# print(len(recchanges))\n",
    "# print(len(recchanges))\n",
    "# print(dictionaries[2])"
   ]
  },
  {
   "cell_type": "code",
   "execution_count": 92,
   "metadata": {},
   "outputs": [
    {
     "name": "stdout",
     "output_type": "stream",
     "text": [
      "time:  0.0006849765777587891\n",
      "time 2:  0.0012280941009521484\n",
      "0.6096256684491979\n",
      "0.7967914438502673\n"
     ]
    }
   ],
   "source": [
    "count = 0\n",
    "k=0\n",
    "\n",
    "start = time.time()\n",
    "for val in recchanges.values():\n",
    "    bools = [*map(bool, val)]\n",
    "    if bools.count(True) == 2 or bools.count(True) == 1:\n",
    "        count += 1\n",
    "print(\"time: \", time.time()- start)\n",
    "\n",
    "start_time = time.time()\n",
    "count_new = 0\n",
    "for val in recchanges.values():\n",
    "    counter = 0\n",
    "    for item in val:\n",
    "        if item !=0:\n",
    "            counter += 1\n",
    "    if counter == 1:\n",
    "        count_new += 1\n",
    "\n",
    "print(\"time 2: \", time.time()-start_time)\n",
    "print(count_new/748)\n",
    "\n",
    "\n",
    "\n",
    "\n",
    "print(count/748)"
   ]
  },
  {
   "cell_type": "code",
   "execution_count": 82,
   "metadata": {},
   "outputs": [
    {
     "name": "stdout",
     "output_type": "stream",
     "text": [
      "True False True\n"
     ]
    }
   ],
   "source": [
    "booleans = [2,0,3]\n",
    "# booleans = map(bool, booleans)\n",
    "print(*map(bool, booleans))"
   ]
  },
  {
   "cell_type": "code",
   "execution_count": 93,
   "metadata": {},
   "outputs": [
    {
     "name": "stdout",
     "output_type": "stream",
     "text": [
      "dict_items([(0, [0, 0]), (1, [0, 2]), (2, [0, 0]), (3, [0, 0])])\n"
     ]
    }
   ],
   "source": [
    "# TEST\n",
    "my_dict = {0: [0, 0], 1: [0, 0], 2: [0, 0], 3: [0, 0]}\n",
    "my_list = [0,1,2,3]\n",
    "\n",
    "for item in my_list:\n",
    "    if item == 1:\n",
    "        my_dict[item][1] = item + 1\n",
    "\n",
    "print(my_dict.items())\n"
   ]
  },
  {
   "cell_type": "code",
   "execution_count": 48,
   "metadata": {},
   "outputs": [
    {
     "name": "stdout",
     "output_type": "stream",
     "text": [
      "one liner:  0.0068662166595458984\n",
      "loop:  0.3140242099761963\n"
     ]
    }
   ],
   "source": [
    "#TEST\n",
    "start = time.time()\n",
    "curr_tstamps = start_times_raw.set_index('userId').to_dict()['tstamp']\n",
    "print(\"one liner: \", time.time() - start)\n",
    "\n",
    "start = time.time()\n",
    "start_tstamp_rows = start_times_raw.shape[0]\n",
    "for k in range(start_tstamp_rows):\n",
    "    userId = start_times_raw.loc[k].at['userId']\n",
    "    start_tstamp = start_times_raw.loc[k].at['tstamp']\n",
    "    curr_tstamps[userId] = start_tstamp\n",
    "print(\"loop: \", time.time() - start)"
   ]
  }
 ],
 "metadata": {
  "interpreter": {
   "hash": "7734ee770e0c8b561a7eea3db918f39df973dd62a4c50ecc5a7d7145864e7eef"
  },
  "kernelspec": {
   "display_name": "Python 3.8.6 64-bit ('3.8.6')",
   "language": "python",
   "name": "python3"
  },
  "language_info": {
   "codemirror_mode": {
    "name": "ipython",
    "version": 3
   },
   "file_extension": ".py",
   "mimetype": "text/x-python",
   "name": "python",
   "nbconvert_exporter": "python",
   "pygments_lexer": "ipython3",
   "version": "3.9.9"
  },
  "orig_nbformat": 4
 },
 "nbformat": 4,
 "nbformat_minor": 2
}
