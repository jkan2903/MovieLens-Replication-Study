{
 "cells": [
  {
   "cell_type": "markdown",
   "metadata": {},
   "source": [
    "# Setup"
   ]
  },
  {
   "cell_type": "code",
   "execution_count": null,
   "metadata": {},
   "outputs": [],
   "source": [
    "# %pip install pymysql\n",
    "# %pip install sshtunnel\n",
    "# %pip install pandas"
   ]
  },
  {
   "cell_type": "code",
   "execution_count": 1,
   "metadata": {},
   "outputs": [],
   "source": [
    "import pymysql\n",
    "from sshtunnel import SSHTunnelForwarder\n",
    "import paramiko\n",
    "from os.path import expanduser\n",
    "import pandas as pd"
   ]
  },
  {
   "cell_type": "code",
   "execution_count": 2,
   "metadata": {},
   "outputs": [],
   "source": [
    "import numpy as np"
   ]
  },
  {
   "cell_type": "code",
   "execution_count": 3,
   "metadata": {},
   "outputs": [],
   "source": [
    "import time\n",
    "import matplotlib.pyplot as plt\n",
    "import math\n",
    "from datetime import datetime, timedelta"
   ]
  },
  {
   "cell_type": "code",
   "execution_count": 4,
   "metadata": {},
   "outputs": [],
   "source": [
    "home = expanduser('~')\n",
    "mypkey = paramiko.RSAKey.from_private_key_file( home + \"/.ssh/id_rsa\")\n",
    "\n",
    "sql_hostname = '127.0.0.1'\n",
    "sql_username = 'readonly'\n",
    "sql_password = None\n",
    "sql_main_database = 'ML3_mirror'\n",
    "sql_port = 3306\n",
    "ssh_host = 'flagon.cs.umn.edu'\n",
    "ssh_user = 'kanna128'\n",
    "ssh_port = 22\n",
    "sql_ip = '1.1.1.1.1'\n",
    "\n",
    "def SSH_connection(query):\n",
    "  with SSHTunnelForwarder(\n",
    "        (ssh_host, ssh_port),\n",
    "        ssh_username=ssh_user,\n",
    "        ssh_pkey=mypkey,\n",
    "        remote_bind_address=(sql_hostname, sql_port)) as tunnel:\n",
    "    conn = pymysql.connect(host='127.0.0.1', user=sql_username,\n",
    "                            passwd=sql_password, db=sql_main_database,\n",
    "                            port=tunnel.local_bind_port)\n",
    "    print('connection done')\n",
    "    df_result = pd.read_sql_query(query,conn)\n",
    "  \n",
    "  return df_result"
   ]
  },
  {
   "cell_type": "markdown",
   "metadata": {},
   "source": [
    "# Description"
   ]
  },
  {
   "cell_type": "code",
   "execution_count": 22,
   "metadata": {},
   "outputs": [],
   "source": [
    "# choose users with the same firstLogin day -- e.g. all users who first logged in on 2016-04-01\n",
    "# choose a timeframe for observation (what is a good range? why? | 7 months-1 year | LONGER IS BETTER) -- e.g. from 2016-04-01 to 2017-04-01 | is this enough time to get fair results?\n",
    "# observe where users perform their first and last recommender change wrt the chosen time period\n",
    "# observe intermediary actions on a monthly basis -- actions summary for each month/ each quarter during the observation period | per quarter | per session makes the most sense\n",
    "# this analysis can help answer 'what do users experiment with towards the beginning of their use of MovieLens versus 7 months into using the platform?'\n",
    "# 'are there noticeable patterns in actions leading to a recommender change?'\n",
    "# can be extended to different time periods and different firstLogin days | results can be compared for such time periods"
   ]
  },
  {
   "cell_type": "markdown",
   "metadata": {},
   "source": [
    "# Queries"
   ]
  },
  {
   "cell_type": "markdown",
   "metadata": {},
   "source": [
    "query_min"
   ]
  },
  {
   "cell_type": "code",
   "execution_count": 10,
   "metadata": {},
   "outputs": [
    {
     "name": "stdout",
     "output_type": "stream",
     "text": [
      "connection done\n"
     ]
    },
    {
     "data": {
      "text/html": [
       "<div>\n",
       "<style scoped>\n",
       "    .dataframe tbody tr th:only-of-type {\n",
       "        vertical-align: middle;\n",
       "    }\n",
       "\n",
       "    .dataframe tbody tr th {\n",
       "        vertical-align: top;\n",
       "    }\n",
       "\n",
       "    .dataframe thead th {\n",
       "        text-align: right;\n",
       "    }\n",
       "</style>\n",
       "<table border=\"1\" class=\"dataframe\">\n",
       "  <thead>\n",
       "    <tr style=\"text-align: right;\">\n",
       "      <th></th>\n",
       "      <th>userId</th>\n",
       "      <th>action</th>\n",
       "      <th>frecchange</th>\n",
       "    </tr>\n",
       "  </thead>\n",
       "  <tbody>\n",
       "    <tr>\n",
       "      <th>0</th>\n",
       "      <td>330960</td>\n",
       "      <td>recommender-change</td>\n",
       "      <td>2020-12-16 15:00:35</td>\n",
       "    </tr>\n",
       "    <tr>\n",
       "      <th>1</th>\n",
       "      <td>330967</td>\n",
       "      <td>recommender-change</td>\n",
       "      <td>2021-05-06 00:15:41</td>\n",
       "    </tr>\n",
       "    <tr>\n",
       "      <th>2</th>\n",
       "      <td>331018</td>\n",
       "      <td>recommender-change</td>\n",
       "      <td>2020-12-26 07:42:58</td>\n",
       "    </tr>\n",
       "    <tr>\n",
       "      <th>3</th>\n",
       "      <td>331067</td>\n",
       "      <td>recommender-change</td>\n",
       "      <td>2021-04-02 14:21:44</td>\n",
       "    </tr>\n",
       "    <tr>\n",
       "      <th>4</th>\n",
       "      <td>331100</td>\n",
       "      <td>recommender-change</td>\n",
       "      <td>2020-12-30 23:17:29</td>\n",
       "    </tr>\n",
       "  </tbody>\n",
       "</table>\n",
       "</div>"
      ],
      "text/plain": [
       "   userId              action          frecchange\n",
       "0  330960  recommender-change 2020-12-16 15:00:35\n",
       "1  330967  recommender-change 2021-05-06 00:15:41\n",
       "2  331018  recommender-change 2020-12-26 07:42:58\n",
       "3  331067  recommender-change 2021-04-02 14:21:44\n",
       "4  331100  recommender-change 2020-12-30 23:17:29"
      ]
     },
     "execution_count": 10,
     "metadata": {},
     "output_type": "execute_result"
    }
   ],
   "source": [
    "query_min = ''' SELECT la.userId, la.action, MIN(la.tstamp) as frecchange FROM ML3_mirror.log_action la INNER JOIN ML3_mirror.user_data ud\n",
    "                ON ud.userId=la.userId WHERE ud.firstLogin<'2020-12-01' AND ud.firstLogin>='2018-12-01' \n",
    "                AND la.tstamp>='2020-11-04' AND la.tstamp<'2021-11-05' AND la.action='recommender-change' GROUP BY la.userId'''\n",
    "first_rec_change = SSH_connection(query_min)\n",
    "first_rec_change.head()"
   ]
  },
  {
   "cell_type": "code",
   "execution_count": 9,
   "metadata": {},
   "outputs": [
    {
     "name": "stdout",
     "output_type": "stream",
     "text": [
      "connection done\n"
     ]
    },
    {
     "data": {
      "text/html": [
       "<div>\n",
       "<style scoped>\n",
       "    .dataframe tbody tr th:only-of-type {\n",
       "        vertical-align: middle;\n",
       "    }\n",
       "\n",
       "    .dataframe tbody tr th {\n",
       "        vertical-align: top;\n",
       "    }\n",
       "\n",
       "    .dataframe thead th {\n",
       "        text-align: right;\n",
       "    }\n",
       "</style>\n",
       "<table border=\"1\" class=\"dataframe\">\n",
       "  <thead>\n",
       "    <tr style=\"text-align: right;\">\n",
       "      <th></th>\n",
       "      <th>userId</th>\n",
       "      <th>action</th>\n",
       "      <th>flog</th>\n",
       "    </tr>\n",
       "  </thead>\n",
       "  <tbody>\n",
       "    <tr>\n",
       "      <th>0</th>\n",
       "      <td>330873</td>\n",
       "      <td>pageview</td>\n",
       "      <td>2020-11-14 19:30:55</td>\n",
       "    </tr>\n",
       "    <tr>\n",
       "      <th>1</th>\n",
       "      <td>330888</td>\n",
       "      <td>rating</td>\n",
       "      <td>2021-04-02 22:13:29</td>\n",
       "    </tr>\n",
       "    <tr>\n",
       "      <th>2</th>\n",
       "      <td>330903</td>\n",
       "      <td>user-list</td>\n",
       "      <td>2020-12-18 13:31:23</td>\n",
       "    </tr>\n",
       "    <tr>\n",
       "      <th>3</th>\n",
       "      <td>330960</td>\n",
       "      <td>pageview</td>\n",
       "      <td>2020-12-16 13:01:48</td>\n",
       "    </tr>\n",
       "    <tr>\n",
       "      <th>4</th>\n",
       "      <td>330967</td>\n",
       "      <td>rating</td>\n",
       "      <td>2021-05-06 00:06:07</td>\n",
       "    </tr>\n",
       "  </tbody>\n",
       "</table>\n",
       "</div>"
      ],
      "text/plain": [
       "   userId     action                flog\n",
       "0  330873   pageview 2020-11-14 19:30:55\n",
       "1  330888     rating 2021-04-02 22:13:29\n",
       "2  330903  user-list 2020-12-18 13:31:23\n",
       "3  330960   pageview 2020-12-16 13:01:48\n",
       "4  330967     rating 2021-05-06 00:06:07"
      ]
     },
     "execution_count": 9,
     "metadata": {},
     "output_type": "execute_result"
    }
   ],
   "source": [
    "query_flog = ''' SELECT la.userId, la.action, MIN(la.tstamp) as flog FROM ML3_mirror.log_action la INNER JOIN ML3_mirror.user_data ud\n",
    "                 ON ud.userId=la.userId WHERE ud.firstLogin<'2020-12-01' AND ud.firstLogin>='2018-12-01' \n",
    "                 AND la.tstamp>='2020-11-04' AND la.tstamp<'2021-11-05' GROUP BY la.userId '''\n",
    "first_logs = SSH_connection(query_flog)\n",
    "first_logs.head()\n",
    "\n",
    "#1m 5.8s"
   ]
  },
  {
   "cell_type": "markdown",
   "metadata": {},
   "source": [
    "query_max"
   ]
  },
  {
   "cell_type": "code",
   "execution_count": null,
   "metadata": {},
   "outputs": [],
   "source": [
    "query_max = ''' SELECT la.userId, la.action, MAX(la.tstamp) FROM ML3_mirror.log_action la INNER JOIN ML3_mirror.user_data ud\n",
    "                ON ud.userId=la.userId WHERE ud.firstLogin<'2015-12-01' AND ud.firstLogin>='2013-12-01' \n",
    "                AND la.tstamp>='2015-11-04' AND la.tstamp<'2016-11-05' AND la.action='recommender-change' GROUP BY la.userId '''\n",
    "last_rec_change = SSH_connection(query_max)\n",
    "last_rec_change.head()"
   ]
  },
  {
   "cell_type": "code",
   "execution_count": 12,
   "metadata": {},
   "outputs": [
    {
     "name": "stdout",
     "output_type": "stream",
     "text": [
      "flogs:  4641\n",
      "frec:  2245\n"
     ]
    }
   ],
   "source": [
    "print(\"flogs: \", first_logs.shape[0])\n",
    "print(\"frec: \", first_rec_change.shape[0])"
   ]
  },
  {
   "cell_type": "markdown",
   "metadata": {},
   "source": [
    "# Analysis"
   ]
  },
  {
   "cell_type": "markdown",
   "metadata": {},
   "source": [
    "histogram: frecchange"
   ]
  },
  {
   "cell_type": "code",
   "execution_count": 24,
   "metadata": {},
   "outputs": [
    {
     "name": "stdout",
     "output_type": "stream",
     "text": [
      "shape:  2245\n",
      "0.0\n",
      "8694.851388888888\n"
     ]
    },
    {
     "data": {
      "image/png": "[encoded data removed]",
      "text/plain": [
       "<Figure size 432x288 with 1 Axes>"
      ]
     },
     "metadata": {
      "needs_background": "light"
     },
     "output_type": "display_data"
    },
    {
     "name": "stdout",
     "output_type": "stream",
     "text": [
      "0.7572383073496659\n"
     ]
    }
   ],
   "source": [
    "diffs_dict = first_rec_change.set_index('userId').to_dict()['frecchange']\n",
    "for index, row in first_logs.iterrows():\n",
    "    user_id = row['userId']\n",
    "    if user_id in diffs_dict:\n",
    "        diff = diffs_dict[user_id] - row['flog']\n",
    "        diffs_dict[user_id] = (diff.total_seconds()) / 3600 \n",
    "\n",
    "# k=0\n",
    "# for key,val in diffs_dict.items():\n",
    "#     if k<5:\n",
    "#         print(key,val)\n",
    "#         k+= 1\n",
    "#     else:\n",
    "#         break\n",
    "print(\"shape: \", len(diffs_dict))\n",
    "print(min(diffs_dict.values()))\n",
    "print(max(diffs_dict.values()))\n",
    "\n",
    "plt.hist(diffs_dict.values(), bins=350)\n",
    "plt.show()\n",
    "\n",
    "print(1700/2245)"
   ]
  },
  {
   "cell_type": "code",
   "execution_count": null,
   "metadata": {},
   "outputs": [],
   "source": []
  },
  {
   "cell_type": "code",
   "execution_count": null,
   "metadata": {},
   "outputs": [],
   "source": []
  }
 ],
 "metadata": {
  "interpreter": {
   "hash": "e198b23f358ad8827086d7218c9ed3152280b6d371432f946858f5b0c268babe"
  },
  "kernelspec": {
   "display_name": "Python 3.9.9 ('tensorflow')",
   "language": "python",
   "name": "python3"
  },
  "language_info": {
   "codemirror_mode": {
    "name": "ipython",
    "version": 3
   },
   "file_extension": ".py",
   "mimetype": "text/x-python",
   "name": "python",
   "nbconvert_exporter": "python",
   "pygments_lexer": "ipython3",
   "version": "3.9.9"
  },
  "orig_nbformat": 4
 },
 "nbformat": 4,
 "nbformat_minor": 2
}
