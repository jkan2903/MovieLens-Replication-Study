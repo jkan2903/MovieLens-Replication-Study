{
 "cells": [
  {
   "cell_type": "markdown",
   "metadata": {},
   "source": [
    "# Setup"
   ]
  },
  {
   "cell_type": "code",
   "execution_count": null,
   "metadata": {},
   "outputs": [],
   "source": [
    "%pip install pymysql\n",
    "%pip install sshtunnel\n",
    "%pip install pandas"
   ]
  },
  {
   "cell_type": "code",
   "execution_count": 2,
   "metadata": {},
   "outputs": [],
   "source": [
    "import pymysql\n",
    "from sshtunnel import SSHTunnelForwarder\n",
    "import paramiko\n",
    "from os.path import expanduser\n",
    "import pandas as pd\n",
    "import numpy as np\n",
    "import time\n",
    "import matplotlib.pyplot as plt\n",
    "import math\n",
    "\n",
    "home = expanduser('~')\n",
    "mypkey = paramiko.RSAKey.from_private_key_file( home + \"/.ssh/id_rsa\")\n",
    "\n",
    "sql_hostname = '127.0.0.1'\n",
    "sql_username = 'readonly'\n",
    "sql_password = None\n",
    "sql_main_database = 'ML3_mirror'\n",
    "sql_port = 3306\n",
    "ssh_host = 'flagon.cs.umn.edu'\n",
    "ssh_user = 'kanna128'\n",
    "ssh_port = 22\n",
    "sql_ip = '1.1.1.1.1'\n",
    "\n",
    "def SSH_connection(query):\n",
    "  with SSHTunnelForwarder(\n",
    "        (ssh_host, ssh_port),\n",
    "        ssh_username=ssh_user,\n",
    "        ssh_pkey=mypkey,\n",
    "        remote_bind_address=(sql_hostname, sql_port)) as tunnel:\n",
    "    conn = pymysql.connect(host='127.0.0.1', user=sql_username,\n",
    "                            passwd=sql_password, db=sql_main_database,\n",
    "                            port=tunnel.local_bind_port)\n",
    "    print('connection done')\n",
    "    df_result = pd.read_sql_query(query,conn)\n",
    "  \n",
    "  return df_result"
   ]
  },
  {
   "cell_type": "code",
   "execution_count": 10,
   "metadata": {},
   "outputs": [],
   "source": [
    "# def remove_rows(df, desired_diff):\n",
    "#     alt_df = df\n",
    "#     # rows = alt_df.shape[0]\n",
    "#     # for k in range(rows):\n",
    "#     #     firstLogin = alt_df.loc[k].at['firstLogin']\n",
    "#     #     lastLogin = alt_df.loc[k].at['lastLogin']\n",
    "#     #     diff = lastLogin - firstLogin\n",
    "\n",
    "#     #     if diff.days>desired_diff:\n",
    "#     #         alt_df = alt_df.drop(k, 0)\n",
    "    \n",
    "#     for index, row in alt_df.iterrows():\n",
    "#         diff = row['lastLogin'] - row['firstLogin']\n",
    "#         if diff.days<desired_diff:\n",
    "#             alt_df = alt_df.drop(index, 0)\n",
    "\n",
    "#     return alt_df"
   ]
  },
  {
   "cell_type": "code",
   "execution_count": 4,
   "metadata": {},
   "outputs": [
    {
     "name": "stdout",
     "output_type": "stream",
     "text": [
      "connection done\n",
      "6697\n"
     ]
    }
   ],
   "source": [
    "# CALCULATING NUMBER OF USERS \n",
    "# query_users = ''' SELECT userId, firstLogin, lastLogin, DATEDIFF(lastLogin, firstLogin)+1 as diff from ML3_mirror.user_data WHERE EXISTS\n",
    "#                   (SELECT userId from log_action WHERE tstamp>='2015-11-04' AND tstamp<'2016-04-01' AND log_action.userId = user_data.userId)\n",
    "#                   AND firstLogin<'2015-12-01' '''\n",
    "# users = SSH_connection(query_users)\n",
    "# print(\"Users: \", users.shape[0])\n",
    "\n",
    "\n",
    "query_users = ''' SELECT userId, firstLogin, lastLogin, DATEDIFF(lastLogin, firstLogin)+1 as diff from ML3_mirror.user_data WHERE EXISTS\n",
    "                  (SELECT userId from log_action WHERE tstamp>='2015-11-04' AND tstamp<'2016-04-01' AND log_action.userId = user_data.userId)\n",
    "                  AND firstLogin<'2015-12-01' AND firstLogin>='2013-12-01' '''\n",
    "users_limited = SSH_connection(query_users)\n",
    "print(users_limited.shape[0])\n",
    "\n",
    "# users.head()\n",
    "# users_limited.head()\n",
    "\n",
    "# 4651\n",
    "# userId, firstLogin, lastLogin, excludeFromExperiments, isDeleted\n",
    "# Am I asking this correctly? | Am I asking the right thing?\n",
    "# choose some qualifications for users that need to be accounted for in this study | there isn't one correct choice -- but think about why a choice could be incorrect\n",
    "\n",
    "# How many switched recommenders at least once?\n",
    "# Total number of recommender change events"
   ]
  },
  {
   "cell_type": "code",
   "execution_count": 14,
   "metadata": {},
   "outputs": [
    {
     "data": {
      "text/html": [
       "<div>\n",
       "<style scoped>\n",
       "    .dataframe tbody tr th:only-of-type {\n",
       "        vertical-align: middle;\n",
       "    }\n",
       "\n",
       "    .dataframe tbody tr th {\n",
       "        vertical-align: top;\n",
       "    }\n",
       "\n",
       "    .dataframe thead th {\n",
       "        text-align: right;\n",
       "    }\n",
       "</style>\n",
       "<table border=\"1\" class=\"dataframe\">\n",
       "  <thead>\n",
       "    <tr style=\"text-align: right;\">\n",
       "      <th></th>\n",
       "      <th>userId</th>\n",
       "      <th>firstLogin</th>\n",
       "      <th>lastLogin</th>\n",
       "      <th>diff</th>\n",
       "    </tr>\n",
       "  </thead>\n",
       "  <tbody>\n",
       "    <tr>\n",
       "      <th>0</th>\n",
       "      <td>244830</td>\n",
       "      <td>2013-12-03</td>\n",
       "      <td>2016-03-10</td>\n",
       "      <td>829</td>\n",
       "    </tr>\n",
       "    <tr>\n",
       "      <th>1</th>\n",
       "      <td>244847</td>\n",
       "      <td>2013-12-03</td>\n",
       "      <td>2020-10-11</td>\n",
       "      <td>2505</td>\n",
       "    </tr>\n",
       "    <tr>\n",
       "      <th>2</th>\n",
       "      <td>244860</td>\n",
       "      <td>2013-12-04</td>\n",
       "      <td>2022-03-11</td>\n",
       "      <td>3020</td>\n",
       "    </tr>\n",
       "    <tr>\n",
       "      <th>3</th>\n",
       "      <td>244955</td>\n",
       "      <td>2013-12-08</td>\n",
       "      <td>2021-08-16</td>\n",
       "      <td>2809</td>\n",
       "    </tr>\n",
       "    <tr>\n",
       "      <th>4</th>\n",
       "      <td>244940</td>\n",
       "      <td>2013-12-08</td>\n",
       "      <td>2022-05-15</td>\n",
       "      <td>3081</td>\n",
       "    </tr>\n",
       "  </tbody>\n",
       "</table>\n",
       "</div>"
      ],
      "text/plain": [
       "   userId  firstLogin   lastLogin  diff\n",
       "0  244830  2013-12-03  2016-03-10   829\n",
       "1  244847  2013-12-03  2020-10-11  2505\n",
       "2  244860  2013-12-04  2022-03-11  3020\n",
       "3  244955  2013-12-08  2021-08-16  2809\n",
       "4  244940  2013-12-08  2022-05-15  3081"
      ]
     },
     "execution_count": 14,
     "metadata": {},
     "output_type": "execute_result"
    }
   ],
   "source": [
    "users_limited.head()"
   ]
  },
  {
   "cell_type": "code",
   "execution_count": 19,
   "metadata": {},
   "outputs": [
    {
     "name": "stdout",
     "output_type": "stream",
     "text": [
      "time:  0.00279998779296875\n",
      "9076\n",
      "3427\n",
      "3431\n"
     ]
    }
   ],
   "source": [
    "# users = users[users['diff'] >= 60]\n",
    "\n",
    "# temp1 = users_limited\n",
    "# temp2 = users\n",
    "\n",
    "# start = time.time()\n",
    "# users_limited = users_limited[users_limited['diff'] > 100]\n",
    "# print(\"time: \", time.time()-start)\n",
    "\n",
    "# print(users.shape[0])\n",
    "# print(users_limited.shape[0])\n",
    "# print(temp1.shape[0])"
   ]
  },
  {
   "cell_type": "code",
   "execution_count": 3,
   "metadata": {},
   "outputs": [],
   "source": [
    "BASELINE = \"{\\\"engineId\\\":\\\"baseline\\\"}\"\n",
    "ITEM_ITEM = \"{\\\"engineId\\\":\\\"item-item\\\"}\"\n",
    "SVD = \"{\\\"engineId\\\":\\\"svd\\\"}\"\n",
    "PICK_GROUPS = \"{\\\"engineId\\\":\\\"pick-groups\\\"}\"\n",
    "\n",
    "LONG_TO_SHORT = {BASELINE: \"baseline\", ITEM_ITEM: \"item-item\", SVD:\"svd\", PICK_GROUPS: \"pick-groups\"}\n",
    "SHORT_TO_LONG = {\"baseline\": BASELINE, \"item-item\":ITEM_ITEM, \"svd\":SVD, \"pick-groups\":PICK_GROUPS}"
   ]
  },
  {
   "cell_type": "code",
   "execution_count": 37,
   "metadata": {},
   "outputs": [],
   "source": [
    "def primary_dicts(users, change_events, fields):\n",
    "    \n",
    "    uid = fields[0]\n",
    "    initial_val = fields[1]\n",
    "    \n",
    "    # pattern_list_dict = {} # dict to store key=userId, val=curralg in the iteration process\n",
    "    \n",
    "    # how would I know what the initial algorithm assignment is?\n",
    "    user_id_keys = users[uid].to_list()\n",
    "    pattern_list_dict = dict.fromkeys(user_id_keys, [ SHORT_TO_LONG[initial_val] ])\n",
    "    # print(\"Users: \", len(pattern_list_dict))\n",
    "\n",
    "    changes_dict = {} # needed to later calculate median changes per user\n",
    "    # changes_count = change_events.shape[0]\n",
    "    cmp_field = fields[2]\n",
    "    # loop to count number of changes correctly; comparing next with prev algorithm\n",
    "    for index,row in change_events.iterrows():\n",
    "        userId = row[uid]\n",
    "        item_to_cmp = row[cmp_field]\n",
    "        if(pattern_list_dict[userId][-1] != item_to_cmp):\n",
    "            changes_dict[userId] = 1 + changes_dict.get(userId, 0)\n",
    "            pattern_list_dict[userId].append(item_to_cmp)\n",
    "\n",
    "    return (changes_dict, pattern_list_dict)"
   ]
  },
  {
   "cell_type": "code",
   "execution_count": 6,
   "metadata": {},
   "outputs": [
    {
     "name": "stdout",
     "output_type": "stream",
     "text": [
      "connection done\n",
      "Rec changes:  14030\n"
     ]
    }
   ],
   "source": [
    "query_changes = ''' SELECT userId, action, tstamp, logJson from ML3_mirror.log_action WHERE EXISTS\n",
    "                  (SELECT userId from user_data WHERE firstLogin<'2015-12-01' AND firstLogin>'2013-12-01' AND user_data.userId = log_action.userId)\n",
    "                  AND tstamp>='2015-11-04' AND tstamp<'2016-04-01'  AND action='recommender-change' '''\n",
    "change_events = SSH_connection(query_changes)\n",
    "print(\"Rec changes: \", change_events.shape[0])"
   ]
  },
  {
   "cell_type": "code",
   "execution_count": 19,
   "metadata": {},
   "outputs": [
    {
     "name": "stdout",
     "output_type": "stream",
     "text": [
      "connection done\n",
      "Rec changes days:  7480\n"
     ]
    }
   ],
   "source": [
    "query_changes_days = ''' SELECT userId, action, tstamp, logJson from ML3_mirror.log_action WHERE EXISTS\n",
    "                  (SELECT userId, DATEDIFF(lastLogin, firstLogin)+1 as diff from user_data WHERE firstLogin<'2015-12-01' \n",
    "                  AND firstLogin>'2013-12-01' AND user_data.userId = log_action.userId\n",
    "                  HAVING diff>=100)\n",
    "                  AND tstamp>='2015-11-04' AND tstamp<'2016-04-01'  AND action='recommender-change' '''\n",
    "change_events_days = SSH_connection(query_changes_days)\n",
    "print(\"Rec changes days: \", change_events_days.shape[0])"
   ]
  },
  {
   "cell_type": "code",
   "execution_count": 50,
   "metadata": {},
   "outputs": [
    {
     "name": "stdout",
     "output_type": "stream",
     "text": [
      "userId                       271900\n",
      "action           recommender-change\n",
      "tstamp          2015-11-04 00:02:21\n",
      "logJson    {\"engineId\":\"item-item\"}\n",
      "Name: 1, dtype: object\n",
      "userId                         271900\n",
      "action             recommender-change\n",
      "tstamp            2015-11-04 00:02:49\n",
      "logJson    {\"engineId\":\"pick-groups\"}\n",
      "Name: 2, dtype: object\n",
      "userId                         271900\n",
      "action             recommender-change\n",
      "tstamp            2015-11-04 00:02:49\n",
      "logJson    {\"engineId\":\"pick-groups\"}\n",
      "Name: 3, dtype: object\n",
      "userId                       271900\n",
      "action           recommender-change\n",
      "tstamp          2015-11-04 00:03:38\n",
      "logJson    {\"engineId\":\"item-item\"}\n",
      "Name: 4, dtype: object\n"
     ]
    }
   ],
   "source": [
    "#TEST\n",
    "for index,row in change_events.iterrows():\n",
    "    if row['userId'] == 271900:\n",
    "        print(row)"
   ]
  },
  {
   "cell_type": "code",
   "execution_count": 9,
   "metadata": {},
   "outputs": [
    {
     "name": "stdout",
     "output_type": "stream",
     "text": [
      "connection done\n",
      "6697\n"
     ]
    },
    {
     "data": {
      "text/html": [
       "<div>\n",
       "<style scoped>\n",
       "    .dataframe tbody tr th:only-of-type {\n",
       "        vertical-align: middle;\n",
       "    }\n",
       "\n",
       "    .dataframe tbody tr th {\n",
       "        vertical-align: top;\n",
       "    }\n",
       "\n",
       "    .dataframe thead th {\n",
       "        text-align: right;\n",
       "    }\n",
       "</style>\n",
       "<table border=\"1\" class=\"dataframe\">\n",
       "  <thead>\n",
       "    <tr style=\"text-align: right;\">\n",
       "      <th></th>\n",
       "      <th>userId</th>\n",
       "      <th>action</th>\n",
       "      <th>tstamp</th>\n",
       "    </tr>\n",
       "  </thead>\n",
       "  <tbody>\n",
       "    <tr>\n",
       "      <th>0</th>\n",
       "      <td>244830</td>\n",
       "      <td>pageview</td>\n",
       "      <td>2015-11-04 00:35:31</td>\n",
       "    </tr>\n",
       "    <tr>\n",
       "      <th>1</th>\n",
       "      <td>244847</td>\n",
       "      <td>pageview</td>\n",
       "      <td>2015-11-17 13:54:33</td>\n",
       "    </tr>\n",
       "    <tr>\n",
       "      <th>2</th>\n",
       "      <td>244860</td>\n",
       "      <td>pageview</td>\n",
       "      <td>2016-03-07 14:36:31</td>\n",
       "    </tr>\n",
       "    <tr>\n",
       "      <th>3</th>\n",
       "      <td>244940</td>\n",
       "      <td>pageview</td>\n",
       "      <td>2015-11-08 05:00:12</td>\n",
       "    </tr>\n",
       "    <tr>\n",
       "      <th>4</th>\n",
       "      <td>244955</td>\n",
       "      <td>pageview</td>\n",
       "      <td>2016-01-12 22:38:33</td>\n",
       "    </tr>\n",
       "  </tbody>\n",
       "</table>\n",
       "</div>"
      ],
      "text/plain": [
       "   userId    action              tstamp\n",
       "0  244830  pageview 2015-11-04 00:35:31\n",
       "1  244847  pageview 2015-11-17 13:54:33\n",
       "2  244860  pageview 2016-03-07 14:36:31\n",
       "3  244940  pageview 2015-11-08 05:00:12\n",
       "4  244955  pageview 2016-01-12 22:38:33"
      ]
     },
     "execution_count": 9,
     "metadata": {},
     "output_type": "execute_result"
    }
   ],
   "source": [
    "query_first_logs = ''' SELECT userId, action, MIN(tstamp) as tstamp from ML3_mirror.log_action WHERE EXISTS\n",
    "                  (SELECT userId from user_data WHERE firstLogin<'2015-12-01' AND firstLogin>='2013-12-01' AND user_data.userId = log_action.userId)\n",
    "                  AND tstamp>='2015-11-04' AND tstamp<'2016-04-01' GROUP BY log_action.userId '''\n",
    "first_logs = SSH_connection(query_first_logs)\n",
    "print(first_logs.shape[0])\n",
    "first_logs.head()\n",
    "\n",
    "#9m 50.5s"
   ]
  },
  {
   "cell_type": "code",
   "execution_count": 6,
   "metadata": {},
   "outputs": [
    {
     "name": "stdout",
     "output_type": "stream",
     "text": [
      "connection done\n"
     ]
    },
    {
     "data": {
      "text/html": [
       "<div>\n",
       "<style scoped>\n",
       "    .dataframe tbody tr th:only-of-type {\n",
       "        vertical-align: middle;\n",
       "    }\n",
       "\n",
       "    .dataframe tbody tr th {\n",
       "        vertical-align: top;\n",
       "    }\n",
       "\n",
       "    .dataframe thead th {\n",
       "        text-align: right;\n",
       "    }\n",
       "</style>\n",
       "<table border=\"1\" class=\"dataframe\">\n",
       "  <thead>\n",
       "    <tr style=\"text-align: right;\">\n",
       "      <th></th>\n",
       "      <th>userId</th>\n",
       "      <th>diff</th>\n",
       "    </tr>\n",
       "  </thead>\n",
       "  <tbody>\n",
       "    <tr>\n",
       "      <th>0</th>\n",
       "      <td>244777</td>\n",
       "      <td>180</td>\n",
       "    </tr>\n",
       "    <tr>\n",
       "      <th>1</th>\n",
       "      <td>244815</td>\n",
       "      <td>481</td>\n",
       "    </tr>\n",
       "    <tr>\n",
       "      <th>2</th>\n",
       "      <td>244817</td>\n",
       "      <td>3148</td>\n",
       "    </tr>\n",
       "    <tr>\n",
       "      <th>3</th>\n",
       "      <td>244838</td>\n",
       "      <td>153</td>\n",
       "    </tr>\n",
       "    <tr>\n",
       "      <th>4</th>\n",
       "      <td>244841</td>\n",
       "      <td>377</td>\n",
       "    </tr>\n",
       "  </tbody>\n",
       "</table>\n",
       "</div>"
      ],
      "text/plain": [
       "   userId  diff\n",
       "0  244777   180\n",
       "1  244815   481\n",
       "2  244817  3148\n",
       "3  244838   153\n",
       "4  244841   377"
      ]
     },
     "execution_count": 6,
     "metadata": {},
     "output_type": "execute_result"
    }
   ],
   "source": [
    "#TEST\n",
    "query = ''' SELECT userId, DATEDIFF(lastLogin, firstLogin)+1 as diff from user_data WHERE firstLogin<'2015-12-01' AND\n",
    "            firstLogin>='2013-12-01' HAVING diff>=100 '''\n",
    "df = SSH_connection(query)\n",
    "df.head()"
   ]
  },
  {
   "cell_type": "code",
   "execution_count": 5,
   "metadata": {},
   "outputs": [
    {
     "name": "stdout",
     "output_type": "stream",
     "text": [
      "connection done\n"
     ]
    },
    {
     "data": {
      "text/html": [
       "<div>\n",
       "<style scoped>\n",
       "    .dataframe tbody tr th:only-of-type {\n",
       "        vertical-align: middle;\n",
       "    }\n",
       "\n",
       "    .dataframe tbody tr th {\n",
       "        vertical-align: top;\n",
       "    }\n",
       "\n",
       "    .dataframe thead th {\n",
       "        text-align: right;\n",
       "    }\n",
       "</style>\n",
       "<table border=\"1\" class=\"dataframe\">\n",
       "  <thead>\n",
       "    <tr style=\"text-align: right;\">\n",
       "      <th></th>\n",
       "      <th>userId</th>\n",
       "      <th>action</th>\n",
       "      <th>tstamp</th>\n",
       "    </tr>\n",
       "  </thead>\n",
       "  <tbody>\n",
       "    <tr>\n",
       "      <th>0</th>\n",
       "      <td>271892</td>\n",
       "      <td>pageview</td>\n",
       "      <td>2015-11-04 00:00:12</td>\n",
       "    </tr>\n",
       "    <tr>\n",
       "      <th>1</th>\n",
       "      <td>271892</td>\n",
       "      <td>pageview</td>\n",
       "      <td>2015-11-04 00:00:22</td>\n",
       "    </tr>\n",
       "    <tr>\n",
       "      <th>2</th>\n",
       "      <td>271454</td>\n",
       "      <td>pageview</td>\n",
       "      <td>2015-11-04 00:00:28</td>\n",
       "    </tr>\n",
       "    <tr>\n",
       "      <th>3</th>\n",
       "      <td>271892</td>\n",
       "      <td>pageview</td>\n",
       "      <td>2015-11-04 00:00:39</td>\n",
       "    </tr>\n",
       "    <tr>\n",
       "      <th>4</th>\n",
       "      <td>271454</td>\n",
       "      <td>pageview</td>\n",
       "      <td>2015-11-04 00:00:45</td>\n",
       "    </tr>\n",
       "  </tbody>\n",
       "</table>\n",
       "</div>"
      ],
      "text/plain": [
       "   userId    action              tstamp\n",
       "0  271892  pageview 2015-11-04 00:00:12\n",
       "1  271892  pageview 2015-11-04 00:00:22\n",
       "2  271454  pageview 2015-11-04 00:00:28\n",
       "3  271892  pageview 2015-11-04 00:00:39\n",
       "4  271454  pageview 2015-11-04 00:00:45"
      ]
     },
     "execution_count": 5,
     "metadata": {},
     "output_type": "execute_result"
    }
   ],
   "source": [
    "query_logs_days = ''' SELECT userId, action, tstamp from ML3_mirror.log_action WHERE EXISTS \n",
    "                  (SELECT userId, DATEDIFF(lastLogin, firstLogin)+1 as diff from user_data WHERE firstLogin<'2015-12-01' AND \n",
    "                  firstLogin>='2013-12-01' AND log_action.userId=user_data.userId HAVING diff>=100)\n",
    "                  AND tstamp>='2015-11-04' AND tstamp<'2016-04-01' '''\n",
    "user_logs_days = SSH_connection(query_logs_days)\n",
    "user_logs_days.head()\n",
    "\n",
    "# 2m 34.3s"
   ]
  },
  {
   "cell_type": "code",
   "execution_count": 16,
   "metadata": {},
   "outputs": [
    {
     "name": "stdout",
     "output_type": "stream",
     "text": [
      "connection done\n"
     ]
    },
    {
     "data": {
      "text/html": [
       "<div>\n",
       "<style scoped>\n",
       "    .dataframe tbody tr th:only-of-type {\n",
       "        vertical-align: middle;\n",
       "    }\n",
       "\n",
       "    .dataframe tbody tr th {\n",
       "        vertical-align: top;\n",
       "    }\n",
       "\n",
       "    .dataframe thead th {\n",
       "        text-align: right;\n",
       "    }\n",
       "</style>\n",
       "<table border=\"1\" class=\"dataframe\">\n",
       "  <thead>\n",
       "    <tr style=\"text-align: right;\">\n",
       "      <th></th>\n",
       "      <th>userId</th>\n",
       "      <th>action</th>\n",
       "      <th>tstamp</th>\n",
       "    </tr>\n",
       "  </thead>\n",
       "  <tbody>\n",
       "    <tr>\n",
       "      <th>0</th>\n",
       "      <td>244830</td>\n",
       "      <td>pageview</td>\n",
       "      <td>2015-11-04 00:35:31</td>\n",
       "    </tr>\n",
       "    <tr>\n",
       "      <th>1</th>\n",
       "      <td>244847</td>\n",
       "      <td>pageview</td>\n",
       "      <td>2015-11-17 13:54:33</td>\n",
       "    </tr>\n",
       "    <tr>\n",
       "      <th>2</th>\n",
       "      <td>244860</td>\n",
       "      <td>pageview</td>\n",
       "      <td>2016-03-07 14:36:31</td>\n",
       "    </tr>\n",
       "    <tr>\n",
       "      <th>3</th>\n",
       "      <td>244940</td>\n",
       "      <td>pageview</td>\n",
       "      <td>2015-11-08 05:00:12</td>\n",
       "    </tr>\n",
       "    <tr>\n",
       "      <th>4</th>\n",
       "      <td>244955</td>\n",
       "      <td>pageview</td>\n",
       "      <td>2016-01-12 22:38:33</td>\n",
       "    </tr>\n",
       "  </tbody>\n",
       "</table>\n",
       "</div>"
      ],
      "text/plain": [
       "   userId    action              tstamp\n",
       "0  244830  pageview 2015-11-04 00:35:31\n",
       "1  244847  pageview 2015-11-17 13:54:33\n",
       "2  244860  pageview 2016-03-07 14:36:31\n",
       "3  244940  pageview 2015-11-08 05:00:12\n",
       "4  244955  pageview 2016-01-12 22:38:33"
      ]
     },
     "execution_count": 16,
     "metadata": {},
     "output_type": "execute_result"
    }
   ],
   "source": [
    "query_flogs_days = ''' SELECT userId, action, MIN(tstamp) as tstamp from ML3_mirror.log_action WHERE EXISTS \n",
    "                  (SELECT userId, DATEDIFF(lastLogin, firstLogin)+1 as diff from user_data WHERE firstLogin<'2015-12-01' AND \n",
    "                  firstLogin>='2013-12-01' AND log_action.userId=user_data.userId HAVING diff>=100)\n",
    "                  AND tstamp>='2015-11-04' AND tstamp<'2016-04-01' GROUP BY userId '''\n",
    "first_logs_days = SSH_connection(query_flogs_days)\n",
    "first_logs_days.shape[0]\n",
    "first_logs_days.head()"
   ]
  },
  {
   "cell_type": "code",
   "execution_count": 17,
   "metadata": {},
   "outputs": [
    {
     "name": "stdout",
     "output_type": "stream",
     "text": [
      "3431\n"
     ]
    }
   ],
   "source": [
    "print(first_logs_days.shape[0])"
   ]
  },
  {
   "cell_type": "code",
   "execution_count": 7,
   "metadata": {},
   "outputs": [
    {
     "name": "stdout",
     "output_type": "stream",
     "text": [
      "connection done\n"
     ]
    },
    {
     "data": {
      "text/html": [
       "<div>\n",
       "<style scoped>\n",
       "    .dataframe tbody tr th:only-of-type {\n",
       "        vertical-align: middle;\n",
       "    }\n",
       "\n",
       "    .dataframe tbody tr th {\n",
       "        vertical-align: top;\n",
       "    }\n",
       "\n",
       "    .dataframe thead th {\n",
       "        text-align: right;\n",
       "    }\n",
       "</style>\n",
       "<table border=\"1\" class=\"dataframe\">\n",
       "  <thead>\n",
       "    <tr style=\"text-align: right;\">\n",
       "      <th></th>\n",
       "      <th>userId</th>\n",
       "      <th>action</th>\n",
       "      <th>tstamp</th>\n",
       "    </tr>\n",
       "  </thead>\n",
       "  <tbody>\n",
       "    <tr>\n",
       "      <th>0</th>\n",
       "      <td>271897</td>\n",
       "      <td>rating</td>\n",
       "      <td>2015-11-04 00:00:00</td>\n",
       "    </tr>\n",
       "    <tr>\n",
       "      <th>1</th>\n",
       "      <td>271464</td>\n",
       "      <td>pageview</td>\n",
       "      <td>2015-11-04 00:00:00</td>\n",
       "    </tr>\n",
       "    <tr>\n",
       "      <th>2</th>\n",
       "      <td>271869</td>\n",
       "      <td>rating</td>\n",
       "      <td>2015-11-04 00:00:02</td>\n",
       "    </tr>\n",
       "    <tr>\n",
       "      <th>3</th>\n",
       "      <td>271897</td>\n",
       "      <td>pageview</td>\n",
       "      <td>2015-11-04 00:00:02</td>\n",
       "    </tr>\n",
       "    <tr>\n",
       "      <th>4</th>\n",
       "      <td>271464</td>\n",
       "      <td>rating</td>\n",
       "      <td>2015-11-04 00:00:05</td>\n",
       "    </tr>\n",
       "  </tbody>\n",
       "</table>\n",
       "</div>"
      ],
      "text/plain": [
       "   userId    action              tstamp\n",
       "0  271897    rating 2015-11-04 00:00:00\n",
       "1  271464  pageview 2015-11-04 00:00:00\n",
       "2  271869    rating 2015-11-04 00:00:02\n",
       "3  271897  pageview 2015-11-04 00:00:02\n",
       "4  271464    rating 2015-11-04 00:00:05"
      ]
     },
     "execution_count": 7,
     "metadata": {},
     "output_type": "execute_result"
    }
   ],
   "source": [
    "query_logs_sessions = ''' SELECT userId, action, tstamp from ML3_mirror.log_action WHERE EXISTS \n",
    "                  (SELECT userId from user_data WHERE firstLogin<'2015-12-01' AND firstLogin>='2013-12-01' AND log_action.userId=user_data.userId) \n",
    "                  AND tstamp>='2015-11-04' AND tstamp<'2016-04-01' '''\n",
    "user_logs_sessions = SSH_connection(query_logs_sessions)\n",
    "user_logs_sessions.head()\n",
    "\n",
    "#2m 54.4s"
   ]
  },
  {
   "cell_type": "code",
   "execution_count": 10,
   "metadata": {},
   "outputs": [
    {
     "name": "stdout",
     "output_type": "stream",
     "text": [
      "<class 'list'>\n"
     ]
    }
   ],
   "source": [
    "first_logs_tstamps = first_logs.set_index('userId').to_dict()['tstamp']\n",
    "print(type(user_logs_sessions['userId'].to_list()))"
   ]
  },
  {
   "cell_type": "code",
   "execution_count": 14,
   "metadata": {},
   "outputs": [
    {
     "name": "stdout",
     "output_type": "stream",
     "text": [
      "Days: 908779\n",
      "Sessions:  1210234\n"
     ]
    }
   ],
   "source": [
    "print(\"Days:\", user_logs_days.shape[0])\n",
    "print(\"Sessions: \", user_logs_sessions.shape[0])"
   ]
  },
  {
   "cell_type": "code",
   "execution_count": 11,
   "metadata": {},
   "outputs": [],
   "source": [
    "def session_count(user_logs, tstamps_dict, fields):\n",
    "    id_field = fields[0]\n",
    "    time_field = fields[1]\n",
    "\n",
    "    sessions_dict = {}\n",
    "\n",
    "    for index,row in user_logs.iterrows():\n",
    "        unique_id = row[id_field]\n",
    "        diff = row[time_field] - tstamps_dict[unique_id]\n",
    "        if diff.total_seconds() > 3600:\n",
    "            sessions_dict[unique_id] = 1 + sessions_dict.get(unique_id, 1)\n",
    "        else:\n",
    "            sessions_dict[unique_id] = sessions_dict.get(unique_id, 1)\n",
    "        tstamps_dict[unique_id] = row[time_field]\n",
    "    \n",
    "    return sessions_dict"
   ]
  },
  {
   "cell_type": "code",
   "execution_count": 15,
   "metadata": {},
   "outputs": [
    {
     "name": "stdout",
     "output_type": "stream",
     "text": [
      "512\n",
      "2\n",
      "Users who had a minimum of two sessions between 2015-11-04 and 2016-04-01:  3346\n",
      "Users who used the system between 2015-11-04 and 2016-04-01 and their lastLogin-firstLogin is in range:  6697\n"
     ]
    }
   ],
   "source": [
    "sessions_count = session_count(user_logs_sessions, first_logs_tstamps, ('userId', 'tstamp'))\n",
    "sessions_count_new = {key:val for key,val in sessions_count.items() if val>=2}\n",
    "print(max(sessions_count_new.values()))\n",
    "print(min(sessions_count_new.values()))\n",
    "print(\"Users who had a minimum of two sessions between 2015-11-04 and 2016-04-01: \",len(sessions_count_new.values()))\n",
    "print(\"Users who used the system between 2015-11-04 and 2016-04-01 and their lastLogin-firstLogin is in range: \",len(sessions_count.values()))"
   ]
  },
  {
   "cell_type": "code",
   "execution_count": 41,
   "metadata": {},
   "outputs": [
    {
     "name": "stdout",
     "output_type": "stream",
     "text": [
      "firstLogin is between 2013 and 2015; have entries between 2015/11 and 2016/03 in log_action \n",
      "Users:  6697\n",
      "All users who have switched recommenders:  3269 ( 48.81290129908915 % )\n",
      "Total rec change events for the same users:  8556\n",
      "\n",
      "firstLogin is between 2013 and 2015; have entries between 2015/11 and 2016/03 in log_action; minimum of two sessions in the time period of interest \n",
      "Users:  3346\n",
      "Users of interest who have switched recommenders:  1697 ( 50.717274357441724 % )\n",
      "Total rec change events for these users:  6122\n"
     ]
    }
   ],
   "source": [
    "dicts = primary_dicts(first_logs, change_events, ('userId', \"pick-groups\", 'logJson'))\n",
    "dict1 = dicts[0]\n",
    "\n",
    "print(\"firstLogin is between 2013 and 2015; have entries between 2015/11 and 2016/03 in log_action \")\n",
    "print(\"Users: \", len(sessions_count))\n",
    "print(\"All users who have switched recommenders: \", len(dict1.values()), \"(\",(len(dict1.values())/6697)*100, \"% )\")\n",
    "print(\"Total rec change events for the same users: \", sum(dict1.values()))\n",
    "print(\"\")\n",
    "\n",
    "dict1 = {key:val for key,val in dict1.items() if key in sessions_count_new.keys()}\n",
    "print(\"firstLogin is between 2013 and 2015; have entries between 2015/11 and 2016/03 in log_action; minimum of two sessions in the time period of interest \")\n",
    "print(\"Users: \", len(sessions_count_new))\n",
    "print(\"Users of interest who have switched recommenders: \", len(dict1.values()),\"(\",(len(dict1.values())/3346)*100, \"% )\")\n",
    "print(\"Total rec change events for these users: \",sum(dict1.values()))\n"
   ]
  },
  {
   "cell_type": "code",
   "execution_count": 45,
   "metadata": {},
   "outputs": [
    {
     "name": "stdout",
     "output_type": "stream",
     "text": [
      "firstLogin is between 2013 and 2015; have entries between 2015/11 and 2016/03 in log_action; used the system for at least 100 days \n",
      "Users:  3431\n",
      "All users who have switched recommenders:  1237 ( 36.053628679685225 % )\n",
      "Total rec change events for the same users:  4591\n"
     ]
    }
   ],
   "source": [
    "dicts_days = primary_dicts(first_logs_days, change_events_days, ('userId', \"pick-groups\", 'logJson'))\n",
    "dict1_days = dicts_days[0]\n",
    "\n",
    "print(\"firstLogin is between 2013 and 2015; have entries between 2015/11 and 2016/03 in log_action; used the system for at least 100 days \")\n",
    "print(\"Users: \", first_logs_days.shape[0])\n",
    "print(\"All users who have switched recommenders: \", len(dict1_days.values()), \"(\",(len(dict1_days.values())/3431)*100, \"% )\")\n",
    "print(\"Total rec change events for the same users: \", sum(dict1_days.values()))\n",
    "\n",
    "# dict1 = {key:val for key,val in dict1.items() if val!=0}\n",
    "# print(\"All users who switched at least once: \", len(dict1.values()))\n",
    "\n",
    "# have I possibly found evidence that leans towards why picking users who used the system for 100 days or more could mean that \n",
    "# they could've performed many actions, including recommender changes, outside of the time period of interest (2015/11 - 2016/03)?\n",
    "\n",
    "# are these results useful in the context of analyzing recommender changes within the time period of interest?\n",
    "\n",
    "# defining a group of users who are active | using ratings/ those who logged in a certain number of times within the observation period\n",
    "# is the minimum number really arbitrary? | sensitivity analysis"
   ]
  },
  {
   "cell_type": "code",
   "execution_count": 5,
   "metadata": {},
   "outputs": [
    {
     "name": "stdout",
     "output_type": "stream",
     "text": [
      "3427\n",
      "6697\n"
     ]
    }
   ],
   "source": [
    "# SETTING UP DICTS \n",
    "# start = time.time()\n",
    "# temp3 = temp1\n",
    "# users_df = remove_rows(temp1, 100)\n",
    "# print(\"time: \", time.time() - start)\n",
    "\n",
    "# temp_var = users_limited\n",
    "# users_limited = users_limited[users_limited['diff'] > 100]\n",
    "# print(users_limited.shape[0])\n",
    "# print(temp_var.shape[0])\n",
    "# print(temp3.shape[0])\n",
    "# dicts = primary_dicts(users_df, change_events, ('userId', 'group', 'logJson'))\n",
    "# changes_dict = dicts[0]\n",
    "# recchange_dict = dicts[1]\n",
    "\n",
    "\n",
    "# # TABLE 1\n",
    "# print(\"Recommender change events: \", sum(changes_dict.values()))\n",
    "# changes_dict = {key:val for key,val in changes_dict.items() if val !=0}\n",
    "# print(\"Users switching at least once: \", len(changes_dict.values()))\n",
    "# print(\"Median changes per user w/ at least 1 change: \", int(np.median(list(changes_dict.values()))))"
   ]
  }
 ],
 "metadata": {
  "interpreter": {
   "hash": "e198b23f358ad8827086d7218c9ed3152280b6d371432f946858f5b0c268babe"
  },
  "kernelspec": {
   "display_name": "Python 3.9.9 ('tensorflow')",
   "language": "python",
   "name": "python3"
  },
  "language_info": {
   "codemirror_mode": {
    "name": "ipython",
    "version": 3
   },
   "file_extension": ".py",
   "mimetype": "text/x-python",
   "name": "python",
   "nbconvert_exporter": "python",
   "pygments_lexer": "ipython3",
   "version": "3.9.9"
  },
  "orig_nbformat": 4
 },
 "nbformat": 4,
 "nbformat_minor": 2
}
