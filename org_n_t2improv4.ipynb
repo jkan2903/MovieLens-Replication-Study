{
 "cells": [
  {
   "cell_type": "code",
   "execution_count": null,
   "metadata": {},
   "outputs": [],
   "source": [
    "%pip install pymysql\n",
    "%pip install sshtunnel\n",
    "%pip install pandas"
   ]
  },
  {
   "cell_type": "code",
   "execution_count": 2,
   "metadata": {},
   "outputs": [],
   "source": [
    "import pymysql\n",
    "from sshtunnel import SSHTunnelForwarder\n",
    "import paramiko\n",
    "from os.path import expanduser\n",
    "import pandas as pd"
   ]
  },
  {
   "cell_type": "code",
   "execution_count": 3,
   "metadata": {},
   "outputs": [],
   "source": [
    "import numpy as np"
   ]
  },
  {
   "cell_type": "code",
   "execution_count": 4,
   "metadata": {},
   "outputs": [],
   "source": [
    "import time\n",
    "import matplotlib.pyplot as plt\n",
    "import math"
   ]
  },
  {
   "cell_type": "code",
   "execution_count": 5,
   "metadata": {},
   "outputs": [],
   "source": [
    "home = expanduser('~')\n",
    "mypkey = paramiko.RSAKey.from_private_key_file( home + \"/.ssh/id_rsa\")\n",
    "\n",
    "sql_hostname = '127.0.0.1'\n",
    "sql_username = 'readonly'\n",
    "sql_password = None\n",
    "sql_main_database = 'ML3_mirror'\n",
    "sql_port = 3306\n",
    "ssh_host = 'flagon.cs.umn.edu'\n",
    "ssh_user = 'kanna128'\n",
    "ssh_port = 22\n",
    "sql_ip = '1.1.1.1.1'"
   ]
  },
  {
   "cell_type": "code",
   "execution_count": 6,
   "metadata": {},
   "outputs": [],
   "source": [
    "def draw_graph(values, labels, max_vals, scale):\n",
    "  bars = plt.bar(range(len(values[1])), values[1], color=(0.2, 0.4, 0.6, 0.6))\n",
    "\n",
    "  if((isinstance(scale[1], int))):\n",
    "    for bar in bars:\n",
    "      yval = bar.get_height()\n",
    "      plt.text(bar.get_x() + 0.5*bar.get_width(), yval + values[2], yval)\n",
    "\n",
    "  xticks = []\n",
    "  yticks = []\n",
    "\n",
    "  if(scale[0] != 0):\n",
    "    xmax = max_vals[0]\n",
    "    xscale = scale[0]\n",
    "    for k in np.arange(0, xmax, xscale):\n",
    "      xticks.append(k)\n",
    "    plt.xticks(xticks)\n",
    "  else:\n",
    "    plt.xticks(range(len(values[0])), values[0])\n",
    "  \n",
    "  ymax = max_vals[1]\n",
    "  yscale = scale[1]\n",
    "\n",
    "  for k in np.arange(0, ymax, yscale):\n",
    "    yticks.append(k)\n",
    "  plt.yticks(yticks)\n",
    "\n",
    "  plt.xlabel(labels[0])\n",
    "  plt.ylabel(labels[1])\n",
    "  plt.ylim(0,max_vals[1])\n",
    "\n",
    "  if(max_vals[0] != 0):\n",
    "    plt.xlim(0, max_vals[0])\n",
    "  \n",
    "  plt.show()"
   ]
  },
  {
   "cell_type": "code",
   "execution_count": 7,
   "metadata": {},
   "outputs": [],
   "source": [
    "############################################### GLOBAL VARIABLES ############################################\n",
    "BASELINE = \"{\\\"engineId\\\":\\\"baseline\\\"}\"\n",
    "ITEM_ITEM = \"{\\\"engineId\\\":\\\"item-item\\\"}\"\n",
    "SVD = \"{\\\"engineId\\\":\\\"svd\\\"}\"\n",
    "PICK_GROUPS = \"{\\\"engineId\\\":\\\"pick-groups\\\"}\"\n",
    "\n",
    "LONG_TO_SHORT = {BASELINE: \"baseline\", ITEM_ITEM: \"item-item\", SVD:\"svd\", PICK_GROUPS: \"pick-groups\"}\n",
    "SHORT_TO_LONG = {\"baseline\": BASELINE, \"item-item\":ITEM_ITEM, \"svd\":SVD, \"pick-groups\":PICK_GROUPS}\n",
    "#############################################################################################################"
   ]
  },
  {
   "cell_type": "code",
   "execution_count": 8,
   "metadata": {},
   "outputs": [],
   "source": [
    "def read_query(query, conn, field):\n",
    "    df = pd.read_sql_query(query, conn)\n",
    "    count = df.count()[field]\n",
    "    return (df, count)"
   ]
  },
  {
   "cell_type": "code",
   "execution_count": 29,
   "metadata": {},
   "outputs": [],
   "source": [
    "def primary_dicts(users, users_count, change_events, changes_count):\n",
    "    ################################## CREATING DICTIONARIES ############################################\n",
    "    recchange_dict = {} # dict to store key=userId, val=curralg in the iteration process\n",
    "\n",
    "    changes_dict = {} # needed to later calculate median changes per user\n",
    "    for k in range(users_count):\n",
    "        userId = users.at[k, 'userId']\n",
    "        group = [\"{\\\"engineId\\\":\\\"\"+users.at[k, 'group']+\"\\\"}\"] # following the format of log_action.log_Json for future comparisons\n",
    "        recchange_dict[userId] = group\n",
    "        changes_dict[userId] = 0\n",
    "    ########################################################################################################\n",
    "\n",
    "    # loop to count number of changes correctly; comparing next with prev algorithm\n",
    "    for i in range(changes_count):\n",
    "        userId = change_events.at[i, 'userId']\n",
    "        recalg = change_events.at[i, 'logJson']\n",
    "        if(recchange_dict[userId][-1] != recalg):\n",
    "            changes_dict[userId] += 1\n",
    "            recchange_dict[userId].append(recalg)\n",
    "\n",
    "    return (changes_dict, recchange_dict)"
   ]
  },
  {
   "cell_type": "code",
   "execution_count": 32,
   "metadata": {},
   "outputs": [],
   "source": [
    "def fig_2(recchange_dict, changes_dict):\n",
    "    # count_dict: key=algorithm, val=(no. of users initially assigned, no. of users initially assigned and switched at least once)\n",
    "    count_dict = {\"baseline\":[0,0], \"item-item\":[0,0], \"svd\":[0,0], \"pick-groups\":[0,0]}\n",
    "    for userId,recalg_list in recchange_dict.items():\n",
    "        recalg = LONG_TO_SHORT[recalg_list[0]]\n",
    "        count_dict[recalg][0] +=1\n",
    "        if userId in changes_dict.keys():\n",
    "            count_dict[recalg][1] += 1\n",
    "    \n",
    "    baseline = count_dict[\"baseline\"][1]/count_dict[\"baseline\"][0]\n",
    "    item_item = count_dict[\"item-item\"][1]/count_dict[\"item-item\"][0]\n",
    "    svd = count_dict[\"svd\"][1]/count_dict[\"svd\"][0]\n",
    "\n",
    "    values = [[\"baseline\", \"item-item\", \"svd\"], [baseline, item_item, svd], 0.01]\n",
    "    return (count_dict, values)"
   ]
  },
  {
   "cell_type": "code",
   "execution_count": 38,
   "metadata": {},
   "outputs": [],
   "source": [
    "def table_2(recchange_dict, count_dict):\n",
    "    recchange_dict = {key:val for key,val in recchange_dict.items() if len(val)>1}\n",
    "    patterns = {}\n",
    "    for userId, recalg_list in recchange_dict.items():\n",
    "        new_list = []\n",
    "        for alg in recalg_list:\n",
    "          new_alg = LONG_TO_SHORT[alg]\n",
    "          new_list.append(new_alg)\n",
    "        recalg_tup = tuple(new_list)\n",
    "        recchange_dict[userId] = recalg_tup\n",
    "        patterns[recalg_tup] = 0\n",
    "    \n",
    "    for recalg_tup in recchange_dict.values():\n",
    "      patterns[recalg_tup] += 1\n",
    "    \n",
    "    patterns_found = set()\n",
    "\n",
    "    for userId, recalg_tup in recchange_dict.items():\n",
    "      initial = recalg_tup[0]\n",
    "\n",
    "      if recalg_tup in patterns.keys():\n",
    "        count = patterns[recalg_tup]\n",
    "      if(count>7 and count<53):\n",
    "        percentage = (count/count_dict[initial][1])*100\n",
    "        pattern_info = (\"pattern: {} | count: {} | percentage: {}\".format(recalg_tup, count, percentage))\n",
    "        patterns_found.add(pattern_info)\n",
    "    \n",
    "    for item in patterns_found:\n",
    "      print(item)\n",
    "    "
   ]
  },
  {
   "cell_type": "code",
   "execution_count": 39,
   "metadata": {},
   "outputs": [
    {
     "name": "stdout",
     "output_type": "stream",
     "text": [
      "connection done\n",
      "Users: 3005\n",
      "query done\n",
      "Recommender change events:  11418\n",
      "Users switching at least once:  748\n",
      "Median changes per user w/ at least 1 change:  3\n"
     ]
    },
    {
     "data": {
      "image/png": "[encoded data removed]",
      "text/plain": [
       "<Figure size 432x288 with 1 Axes>"
      ]
     },
     "metadata": {
      "needs_background": "light"
     },
     "output_type": "display_data"
    },
    {
     "name": "stdout",
     "output_type": "stream",
     "text": [
      "pattern: ('baseline', 'item-item') | count: 45 | percentage: 14.802631578947366\n",
      "pattern: ('item-item', 'baseline', 'item-item') | count: 8 | percentage: 3.2520325203252036\n",
      "pattern: ('baseline', 'svd', 'item-item') | count: 8 | percentage: 2.631578947368421\n",
      "pattern: ('item-item', 'svd') | count: 52 | percentage: 21.138211382113823\n",
      "pattern: ('svd', 'pick-groups', 'svd') | count: 9 | percentage: 4.545454545454546\n",
      "pattern: ('baseline', 'svd') | count: 45 | percentage: 14.802631578947366\n",
      "pattern: ('svd', 'item-item') | count: 30 | percentage: 15.151515151515152\n",
      "pattern: ('baseline', 'item-item', 'svd', 'item-item') | count: 12 | percentage: 3.9473684210526314\n",
      "pattern: ('item-item', 'svd', 'item-item') | count: 23 | percentage: 9.34959349593496\n",
      "pattern: ('item-item', 'pick-groups', 'svd') | count: 8 | percentage: 3.2520325203252036\n",
      "pattern: ('svd', 'item-item', 'svd') | count: 21 | percentage: 10.606060606060606\n",
      "pattern: ('baseline', 'item-item', 'svd') | count: 24 | percentage: 7.894736842105263\n"
     ]
    },
    {
     "data": {
      "image/png": "[encoded data removed]",
      "text/plain": [
       "<Figure size 432x288 with 1 Axes>"
      ]
     },
     "metadata": {
      "needs_background": "light"
     },
     "output_type": "display_data"
    },
    {
     "name": "stdout",
     "output_type": "stream",
     "text": [
      "done\n"
     ]
    }
   ],
   "source": [
    "def main_func():\n",
    "  \n",
    "  # SSH CONNECTION\n",
    "  with SSHTunnelForwarder(\n",
    "          (ssh_host, ssh_port),\n",
    "          ssh_username=ssh_user,\n",
    "          ssh_pkey=mypkey,\n",
    "          remote_bind_address=(sql_hostname, sql_port)) as tunnel:\n",
    "      conn = pymysql.connect(host='127.0.0.1', user=sql_username,\n",
    "                              passwd=sql_password, db=sql_main_database,\n",
    "                              port=tunnel.local_bind_port)\n",
    "      print('connection done')\n",
    "\n",
    "      # CALCULATING NUMBER OF USERS \n",
    "      query_users = ''' SELECT expt_user.group, expt_user.userId from ML3_mirror.expt_user WHERE \n",
    "                        exptId = 'listcmp-long' AND started <'2015-04-01' \n",
    "                        AND status = 'RANDOMLY_ASSIGNED' '''\n",
    "      func_out = read_query(query_users, conn, 'group')\n",
    "      users = func_out[0]\n",
    "      users_count = func_out[1]\n",
    "      print(\"Users: {}\".format(users_count))\n",
    "\n",
    "      # NUMBER OF CHANGE EVENTS \n",
    "      query_change = '''SELECT userId, logJson, tstamp, action from ML3_mirror.log_action WHERE EXISTS \n",
    "                        (SELECT userId from ML3_mirror.expt_user where expt_user.userId = log_action.userId \n",
    "                        AND expt_user.exptId='listcmp-long' \n",
    "                        AND expt_user.status='RANDOMLY_ASSIGNED') \n",
    "                        AND log_action.action='recommender-change' \n",
    "                        AND log_action.tstamp<'2015-04-01' ORDER BY log_action.tstamp'''\n",
    "      func_out = read_query(query_change, conn, 'userId')\n",
    "      change_events = func_out[0]\n",
    "      changes_count = func_out[1]\n",
    "      print(\"query done\")\n",
    "      \n",
    "\n",
    "      # SETTING UP DICTS \n",
    "      dicts = primary_dicts(users, users_count, change_events, changes_count)\n",
    "      changes_dict = dicts[0]\n",
    "      recchange_dict = dicts[1]\n",
    "\n",
    "\n",
    "      # TABLE 1\n",
    "      print(\"Recommender change events: \", sum(changes_dict.values()))\n",
    "      changes_dict = {key:val for key,val in changes_dict.items() if val !=0}\n",
    "      print(\"Users switching at least once: \", len(changes_dict.values()))\n",
    "      print(\"Median changes per user w/ at least 1 change: \", int(np.median(list(changes_dict.values()))))\n",
    "\n",
    "      \n",
    "      # FIGURE 2 \n",
    "      func_out = fig_2(recchange_dict, changes_dict)\n",
    "      values = func_out[1]\n",
    "      count_dict = func_out[0]\n",
    "      draw_graph(values, [\"Initial Algorithm\", \"Proportion of Users Switching\"], [0, 0.35], [0, 0.1])\n",
    "\n",
    "\n",
    "      # TABLE 2 \n",
    "      table_2(recchange_dict, count_dict)\n",
    "\n",
    "      # expt_end_date - account_creation_date as a count of days\n",
    "\n",
    "\n",
    "      # FIGURE 3\n",
    "      for key in count_dict.keys():\n",
    "        count_dict[key] = 0\n",
    "\n",
    "      for userId, recalg_tup in recchange_dict.items():\n",
    "        if(userId in changes_dict.keys()):\n",
    "          alg = LONG_TO_SHORT[recalg_tup[-1]]\n",
    "          count_dict[alg] += 1\n",
    "\n",
    "      values = [[\"baseline\", \"item-item\", \"pick-groups\", \"svd\"], \n",
    "                [count_dict[\"baseline\"], count_dict[\"item-item\"], \n",
    "                count_dict[\"pick-groups\"], count_dict[\"svd\"]], \n",
    "                8]\n",
    "      draw_graph(values, [\"Final Selected Algorithm\", \"# of users\"], [0, 400], [0, 100])\n",
    "\n",
    "if __name__ == \"__main__\":\n",
    "  main_func()\n",
    "  print('done')"
   ]
  },
  {
   "cell_type": "code",
   "execution_count": null,
   "metadata": {},
   "outputs": [],
   "source": []
  }
 ],
 "metadata": {
  "interpreter": {
   "hash": "7734ee770e0c8b561a7eea3db918f39df973dd62a4c50ecc5a7d7145864e7eef"
  },
  "kernelspec": {
   "display_name": "Python 3.8.6 64-bit ('3.8.6')",
   "language": "python",
   "name": "python3"
  },
  "language_info": {
   "codemirror_mode": {
    "name": "ipython",
    "version": 3
   },
   "file_extension": ".py",
   "mimetype": "text/x-python",
   "name": "python",
   "nbconvert_exporter": "python",
   "pygments_lexer": "ipython3",
   "version": "3.9.9"
  },
  "orig_nbformat": 4
 },
 "nbformat": 4,
 "nbformat_minor": 2
}
