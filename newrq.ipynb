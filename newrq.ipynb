{
 "cells": [
  {
   "cell_type": "code",
   "execution_count": 1,
   "metadata": {},
   "outputs": [
    {
     "name": "stdout",
     "output_type": "stream",
     "text": [
      "Requirement already satisfied: pymysql in ./miniforge3/envs/tensorflow/lib/python3.9/site-packages (1.0.2)\n",
      "Note: you may need to restart the kernel to use updated packages.\n",
      "Requirement already satisfied: sshtunnel in ./miniforge3/envs/tensorflow/lib/python3.9/site-packages (0.4.0)\n",
      "Requirement already satisfied: paramiko>=2.7.2 in ./miniforge3/envs/tensorflow/lib/python3.9/site-packages (from sshtunnel) (2.10.1)\n",
      "Requirement already satisfied: six in ./miniforge3/envs/tensorflow/lib/python3.9/site-packages (from paramiko>=2.7.2->sshtunnel) (1.15.0)\n",
      "Requirement already satisfied: pynacl>=1.0.1 in ./miniforge3/envs/tensorflow/lib/python3.9/site-packages (from paramiko>=2.7.2->sshtunnel) (1.5.0)\n",
      "Requirement already satisfied: cryptography>=2.5 in ./miniforge3/envs/tensorflow/lib/python3.9/site-packages (from paramiko>=2.7.2->sshtunnel) (36.0.1)\n",
      "Requirement already satisfied: bcrypt>=3.1.3 in ./miniforge3/envs/tensorflow/lib/python3.9/site-packages (from paramiko>=2.7.2->sshtunnel) (3.2.0)\n",
      "Requirement already satisfied: cffi>=1.1 in ./miniforge3/envs/tensorflow/lib/python3.9/site-packages (from bcrypt>=3.1.3->paramiko>=2.7.2->sshtunnel) (1.15.0)\n",
      "Requirement already satisfied: pycparser in ./miniforge3/envs/tensorflow/lib/python3.9/site-packages (from cffi>=1.1->bcrypt>=3.1.3->paramiko>=2.7.2->sshtunnel) (2.21)\n",
      "Note: you may need to restart the kernel to use updated packages.\n",
      "Requirement already satisfied: pandas in ./miniforge3/envs/tensorflow/lib/python3.9/site-packages (1.3.5)\n",
      "Requirement already satisfied: python-dateutil>=2.7.3 in ./miniforge3/envs/tensorflow/lib/python3.9/site-packages (from pandas) (2.8.2)\n",
      "Requirement already satisfied: pytz>=2017.3 in ./miniforge3/envs/tensorflow/lib/python3.9/site-packages (from pandas) (2021.3)\n",
      "Requirement already satisfied: numpy>=1.20.0 in ./miniforge3/envs/tensorflow/lib/python3.9/site-packages (from pandas) (1.22.1)\n",
      "Requirement already satisfied: six>=1.5 in ./miniforge3/envs/tensorflow/lib/python3.9/site-packages (from python-dateutil>=2.7.3->pandas) (1.15.0)\n",
      "Note: you may need to restart the kernel to use updated packages.\n"
     ]
    }
   ],
   "source": [
    "%pip install pymysql\n",
    "%pip install sshtunnel\n",
    "%pip install pandas"
   ]
  },
  {
   "cell_type": "code",
   "execution_count": 2,
   "metadata": {},
   "outputs": [],
   "source": [
    "import pymysql\n",
    "from sshtunnel import SSHTunnelForwarder\n",
    "import paramiko\n",
    "from os.path import expanduser\n",
    "import pandas as pd"
   ]
  },
  {
   "cell_type": "code",
   "execution_count": 3,
   "metadata": {},
   "outputs": [],
   "source": [
    "import numpy as np"
   ]
  },
  {
   "cell_type": "code",
   "execution_count": 4,
   "metadata": {},
   "outputs": [],
   "source": [
    "import time\n",
    "import matplotlib.pyplot as plt\n",
    "import math"
   ]
  },
  {
   "cell_type": "code",
   "execution_count": 5,
   "metadata": {},
   "outputs": [],
   "source": [
    "home = expanduser('~')\n",
    "mypkey = paramiko.RSAKey.from_private_key_file( home + \"/.ssh/id_rsa\")\n",
    "\n",
    "sql_hostname = '127.0.0.1'\n",
    "sql_username = 'readonly'\n",
    "sql_password = None\n",
    "sql_main_database = 'ML3_mirror'\n",
    "sql_port = 3306\n",
    "ssh_host = 'flagon.cs.umn.edu'\n",
    "ssh_user = 'kanna128'\n",
    "ssh_port = 22\n",
    "sql_ip = '1.1.1.1.1'"
   ]
  },
  {
   "cell_type": "code",
   "execution_count": 6,
   "metadata": {},
   "outputs": [],
   "source": [
    "def draw_graph(values, labels, max_vals, scale):\n",
    "  bars = plt.bar(range(len(values[1])), values[1], color=(0.2, 0.4, 0.6, 0.6))\n",
    "\n",
    "  if((isinstance(scale[1], int))):\n",
    "    for bar in bars:\n",
    "      yval = bar.get_height()\n",
    "      plt.text(bar.get_x() + 0.5*bar.get_width(), yval + values[2], yval)\n",
    "\n",
    "  xticks = []\n",
    "  yticks = []\n",
    "\n",
    "  if(scale[0] != 0):\n",
    "    xmax = max_vals[0]\n",
    "    xscale = scale[0]\n",
    "    for k in np.arange(0, xmax, xscale):\n",
    "      xticks.append(k)\n",
    "    plt.xticks(xticks)\n",
    "  else:\n",
    "    plt.xticks(range(len(values[0])), values[0])\n",
    "  \n",
    "  ymax = max_vals[1]\n",
    "  yscale = scale[1]\n",
    "\n",
    "  for k in np.arange(0, ymax, yscale):\n",
    "    yticks.append(k)\n",
    "  plt.yticks(yticks)\n",
    "\n",
    "  plt.xlabel(labels[0])\n",
    "  plt.ylabel(labels[1])\n",
    "  plt.ylim(0,max_vals[1])\n",
    "\n",
    "  if(max_vals[0] != 0):\n",
    "    plt.xlim(0, max_vals[0])\n",
    "  \n",
    "  plt.show()"
   ]
  },
  {
   "cell_type": "code",
   "execution_count": 7,
   "metadata": {},
   "outputs": [],
   "source": [
    "BASELINE = \"{\\\"engineId\\\":\\\"baseline\\\"}\"\n",
    "ITEM_ITEM = \"{\\\"engineId\\\":\\\"item-item\\\"}\"\n",
    "SVD = \"{\\\"engineId\\\":\\\"svd\\\"}\"\n",
    "PICK_GROUPS = \"{\\\"engineId\\\":\\\"pick-groups\\\"}\"\n",
    "\n",
    "LONG_TO_SHORT = {BASELINE: \"baseline\", ITEM_ITEM: \"item-item\", SVD:\"svd\", PICK_GROUPS: \"pick-groups\"}\n",
    "SHORT_TO_LONG = {\"baseline\": BASELINE, \"item-item\":ITEM_ITEM, \"svd\":SVD, \"pick-groups\":PICK_GROUPS}"
   ]
  },
  {
   "cell_type": "code",
   "execution_count": 8,
   "metadata": {},
   "outputs": [],
   "source": [
    "########################################### PRIMARY_DICTS #######################################################\n",
    "\n",
    "def primary_dicts(users, change_events, fields):\n",
    "    \n",
    "    users_count = users.shape[0]\n",
    "    uid = fields[0]\n",
    "    begin = fields[1]\n",
    "    \n",
    "    pattern_list_dict = {} # dict to store key=userId, val=curralg in the iteration process\n",
    "    \n",
    "    for k in range(users_count):\n",
    "        userId = users.at[k, uid]\n",
    "        first_item = [ SHORT_TO_LONG[users.at[k, begin]] ] # following the format of log_action.log_Json for future comparisons\n",
    "        pattern_list_dict[userId] = first_item\n",
    "\n",
    "    changes_dict = {} # needed to later calculate median changes per user\n",
    "    changes_count = change_events.shape[0]\n",
    "    cmp_field = fields[2]\n",
    "    # loop to count number of changes correctly; comparing next with prev algorithm\n",
    "    for i in range(changes_count):\n",
    "        userId = change_events.at[i, uid]\n",
    "        item_to_cmp = change_events.at[i, cmp_field]\n",
    "        if(pattern_list_dict[userId][-1] != item_to_cmp):\n",
    "            changes_dict[userId] = 1 + changes_dict.get(userId, 0)\n",
    "            pattern_list_dict[userId].append(item_to_cmp)\n",
    "\n",
    "    return (changes_dict, pattern_list_dict)\n",
    "\n",
    "################################################## FIG_2 #######################################################\n",
    "\n",
    "def fig_2(recchange_dict, changes_dict):\n",
    "    # count_dict: key=algorithm, val=(no. of users initially assigned, no. of users initially assigned and switched at least once)\n",
    "    count_dict = {\"baseline\":[0,0], \"item-item\":[0,0], \"svd\":[0,0], \"pick-groups\":[0,0]}\n",
    "    for userId,recalg_list in recchange_dict.items():\n",
    "        recalg = LONG_TO_SHORT[recalg_list[0]]\n",
    "        count_dict[recalg][0] +=1\n",
    "        if userId in changes_dict.keys():\n",
    "            count_dict[recalg][1] += 1\n",
    "    \n",
    "    baseline = count_dict[\"baseline\"][1]/count_dict[\"baseline\"][0]\n",
    "    item_item = count_dict[\"item-item\"][1]/count_dict[\"item-item\"][0]\n",
    "    svd = count_dict[\"svd\"][1]/count_dict[\"svd\"][0]\n",
    "\n",
    "    values = [[\"baseline\", \"item-item\", \"svd\"], [baseline, item_item, svd], 0.01]\n",
    "    return (count_dict, values)\n",
    "\n",
    "############################################## TABLE_2 #########################################################\n",
    "\n",
    "def table_2(changes_dict, count_dict):\n",
    "  changes_dict = {id:list for id,list in changes_dict.items() if len(list)>1}\n",
    "  patterns = {}\n",
    "  for id, list in changes_dict.items():\n",
    "    new_list = []\n",
    "    for alg in list:\n",
    "      new_alg = LONG_TO_SHORT[alg]\n",
    "      new_list.append(new_alg)\n",
    "    recalg_tup = tuple(new_list)\n",
    "    changes_dict[id] = recalg_tup\n",
    "    patterns[recalg_tup] = 0\n",
    "    \n",
    "  for recalg_tup in changes_dict.values():\n",
    "    patterns[recalg_tup] += 1\n",
    "  \n",
    "  patterns_found = set()\n",
    "\n",
    "  for id, recalg_tup in changes_dict.items():\n",
    "    initial = recalg_tup[0]\n",
    "    count = 0\n",
    "    if recalg_tup in patterns.keys():\n",
    "      count = patterns[recalg_tup]\n",
    "    if(count>7 and count<53):\n",
    "      percentage = (count/count_dict[initial][1])*100\n",
    "      pattern_info = (\"pattern: {} | count: {} | percentage: {}\".format(recalg_tup, count, percentage))\n",
    "      patterns_found.add(pattern_info)\n",
    "  \n",
    "  for item in patterns_found:\n",
    "    print(item)\n",
    "\n",
    "################################################# FIG_4 ########################################################\n",
    "\n",
    "def fig_4(changes_dict, range):\n",
    "    transitions_dict = {}\n",
    "    \n",
    "    # range check -- running it on data where the range is outside of 20\n",
    "    # accepting the broadest possible input | returning the most specific answer\n",
    "    # for k in range(20):\n",
    "    #     transitions_dict[k+1] = 0\n",
    "    lower_bound = range[0]\n",
    "    upper_bound = range[1]\n",
    "    for list in changes_dict.values():\n",
    "        transition_count = len(list) - 1\n",
    "        if transition_count>lower_bound and transition_count<upper_bound: \n",
    "            transitions_dict[transition_count] = 1 + transitions_dict.get(transition_count, 0)\n",
    "    return transitions_dict\n",
    "\n",
    "######################################## SSH_CONNECTION #################################################\n",
    "\n",
    "def SSH_connection(query):\n",
    "  with SSHTunnelForwarder(\n",
    "        (ssh_host, ssh_port),\n",
    "        ssh_username=ssh_user,\n",
    "        ssh_pkey=mypkey,\n",
    "        remote_bind_address=(sql_hostname, sql_port)) as tunnel:\n",
    "    conn = pymysql.connect(host='127.0.0.1', user=sql_username,\n",
    "                            passwd=sql_password, db=sql_main_database,\n",
    "                            port=tunnel.local_bind_port)\n",
    "    print('connection done')\n",
    "    df_result = pd.read_sql_query(query,conn)\n",
    "  \n",
    "  return df_result\n",
    "\n",
    "#################################################################################################################"
   ]
  },
  {
   "cell_type": "code",
   "execution_count": 93,
   "metadata": {},
   "outputs": [
    {
     "name": "stdout",
     "output_type": "stream",
     "text": [
      "connection done\n",
      "Users: 3005\n"
     ]
    }
   ],
   "source": [
    "# CALCULATING NUMBER OF USERS \n",
    "query_users = ''' SELECT expt_user.group, expt_user.userId from ML3_mirror.expt_user WHERE \n",
    "                exptId = 'listcmp-long' AND started <'2015-04-01' \n",
    "                AND status = 'RANDOMLY_ASSIGNED' '''\n",
    "users = SSH_connection(query_users)\n",
    "print(\"Users: {}\".format(users.shape[0]))"
   ]
  },
  {
   "cell_type": "code",
   "execution_count": 108,
   "metadata": {},
   "outputs": [
    {
     "name": "stdout",
     "output_type": "stream",
     "text": [
      "connection done\n",
      "query done\n"
     ]
    }
   ],
   "source": [
    "# NUMBER OF CHANGE EVENTS \n",
    "query_change = '''SELECT userId, logJson, tstamp, action from ML3_mirror.log_action WHERE EXISTS \n",
    "                (SELECT userId from ML3_mirror.expt_user where expt_user.userId = log_action.userId \n",
    "                AND expt_user.exptId='listcmp-long' \n",
    "                AND expt_user.status='RANDOMLY_ASSIGNED') \n",
    "                AND log_action.action='recommender-change' \n",
    "                AND log_action.tstamp<'2015-04-01' ORDER BY log_action.tstamp'''\n",
    "change_events = SSH_connection(query_change)\n",
    "print(\"query done\")"
   ]
  },
  {
   "cell_type": "code",
   "execution_count": 16,
   "metadata": {},
   "outputs": [
    {
     "name": "stdout",
     "output_type": "stream",
     "text": [
      "Recommender change events:  11418\n",
      "Users switching at least once:  748\n",
      "Median changes per user w/ at least 1 change:  3\n"
     ]
    }
   ],
   "source": [
    "# SETTING UP DICTS \n",
    "dicts = primary_dicts(users, change_events, ('userId', 'group', 'logJson'))\n",
    "changes_dict = dicts[0]\n",
    "recchange_dict = dicts[1]\n",
    "\n",
    "\n",
    "# TABLE 1\n",
    "print(\"Recommender change events: \", sum(changes_dict.values()))\n",
    "changes_dict = {key:val for key,val in changes_dict.items() if val !=0}\n",
    "print(\"Users switching at least once: \", len(changes_dict.values()))\n",
    "print(\"Median changes per user w/ at least 1 change: \", int(np.median(list(changes_dict.values()))))"
   ]
  },
  {
   "cell_type": "code",
   "execution_count": null,
   "metadata": {},
   "outputs": [],
   "source": [
    "# FIGURE 2 \n",
    "func_out = fig_2(recchange_dict, changes_dict)\n",
    "values = func_out[1]\n",
    "count_dict = func_out[0]\n",
    "draw_graph(values, [\"Initial Algorithm\", \"Proportion of Users Switching\"], [0, 0.35], [0, 0.1])"
   ]
  },
  {
   "cell_type": "code",
   "execution_count": 101,
   "metadata": {},
   "outputs": [
    {
     "name": "stdout",
     "output_type": "stream",
     "text": [
      "pattern: ('baseline', 'svd') | count: 45 | percentage: 14.802631578947366\n",
      "pattern: ('baseline', 'item-item') | count: 45 | percentage: 14.802631578947366\n",
      "pattern: ('baseline', 'item-item', 'svd', 'item-item') | count: 12 | percentage: 3.9473684210526314\n",
      "pattern: ('item-item', 'svd', 'item-item') | count: 23 | percentage: 9.34959349593496\n",
      "pattern: ('baseline', 'svd', 'item-item') | count: 8 | percentage: 2.631578947368421\n",
      "pattern: ('svd', 'pick-groups', 'svd') | count: 9 | percentage: 4.545454545454546\n",
      "pattern: ('item-item', 'baseline', 'item-item') | count: 8 | percentage: 3.2520325203252036\n",
      "pattern: ('svd', 'item-item', 'svd') | count: 21 | percentage: 10.606060606060606\n",
      "pattern: ('item-item', 'pick-groups', 'svd') | count: 8 | percentage: 3.2520325203252036\n",
      "pattern: ('svd', 'item-item') | count: 30 | percentage: 15.151515151515152\n",
      "pattern: ('baseline', 'item-item', 'svd') | count: 24 | percentage: 7.894736842105263\n",
      "pattern: ('item-item', 'svd') | count: 52 | percentage: 21.138211382113823\n"
     ]
    }
   ],
   "source": [
    "# TABLE 2 \n",
    "table_2(recchange_dict, count_dict)"
   ]
  },
  {
   "cell_type": "code",
   "execution_count": null,
   "metadata": {},
   "outputs": [],
   "source": [
    "# FIGURE 3\n",
    "for key in count_dict.keys():\n",
    "    count_dict[key] = 0\n",
    "\n",
    "for userId, recalg_tup in recchange_dict.items():\n",
    "    if(userId in changes_dict.keys()):\n",
    "        alg = LONG_TO_SHORT[recalg_tup[-1]]\n",
    "        count_dict[alg] += 1\n",
    "\n",
    "values = [[\"baseline\", \"item-item\", \"pick-groups\", \"svd\"], \n",
    "        [count_dict[\"baseline\"], count_dict[\"item-item\"], \n",
    "        count_dict[\"pick-groups\"], count_dict[\"svd\"]], \n",
    "        8]\n",
    "draw_graph(values, [\"Final Selected Algorithm\", \"# of users\"], [0, 400], [0, 100])\n",
    "\n",
    "# FIGURE 4\n",
    "func_out = fig_4(recchange_dict, (0, 20))\n",
    "plt.hist(func_out.keys(), weights=func_out.values(), bins = range(21))\n",
    "plt.show()"
   ]
  },
  {
   "cell_type": "code",
   "execution_count": 118,
   "metadata": {},
   "outputs": [
    {
     "name": "stdout",
     "output_type": "stream",
     "text": [
      "connection done\n",
      "   count(*)\n",
      "0    621277\n"
     ]
    }
   ],
   "source": [
    "query_time = '''SELECT count(*) from ML3_mirror.log_action WHERE EXISTS \n",
    "                (SELECT userId from ML3_mirror.expt_user where expt_user.userId = log_action.userId \n",
    "                AND expt_user.exptId='listcmp-long' \n",
    "                AND expt_user.status='RANDOMLY_ASSIGNED')\n",
    "                AND log_action.tstamp<'2015-04-01' ORDER BY userId'''\n",
    "# query_time = ''' SELECT userId,tstamp from ML3_mirror.log_action limit 10 '''\n",
    "transition_times = SSH_connection(query_time)\n",
    "print(transition_times)\n",
    "# rows = transition_times.shape[0]\n",
    "\n",
    "# 621277 rows"
   ]
  },
  {
   "cell_type": "code",
   "execution_count": 121,
   "metadata": {},
   "outputs": [],
   "source": [
    "import datetime"
   ]
  },
  {
   "cell_type": "code",
   "execution_count": 17,
   "metadata": {},
   "outputs": [
    {
     "name": "stdout",
     "output_type": "stream",
     "text": [
      "connection done\n",
      "current time\n",
      "curr time:  2014-11-04 14:55:18\n",
      "next_time:  2014-11-04 14:55:41\n",
      "0 days 00:00:23\n",
      "<class 'pandas._libs.tslibs.timestamps.Timestamp'>\n",
      "0 days 12:55:56\n",
      "46556.0\n"
     ]
    }
   ],
   "source": [
    "query_time = '''SELECT userId, action, tstamp from ML3_mirror.log_action WHERE EXISTS \n",
    "                (SELECT userId from ML3_mirror.expt_user where expt_user.userId = log_action.userId \n",
    "                AND expt_user.exptId='listcmp-long' \n",
    "                AND expt_user.status='RANDOMLY_ASSIGNED')\n",
    "                AND log_action.tstamp<'2015-04-01' AND log_action.tstamp>'2014-11-04' '''\n",
    "transition_times = SSH_connection(query_time)\n",
    "\n",
    "# curr_time = transition_times.loc[0].at['tstamp']\n",
    "# next_time = transition_times.loc[1].at['tstamp']\n",
    "# print(\"curr time: \", curr_time)\n",
    "# print(\"next_time: \", next_time)\n",
    "# print(next_time - curr_time)\n",
    "# print(type(curr_time))\n",
    "# print(curr_time.total_seconds())\n",
    "\n",
    "times_dict = {}\n",
    "actions_dict = {}\n",
    "t_range = transition_times.shape[0] - 1\n",
    "prev_time = transition_times.loc[0].at['tstamp']\n",
    "# curr_time = transition_times.loc[10].at['tstamp']\n",
    "# time_diff = curr_time - prev_time\n",
    "\n",
    "# print(time_diff)\n",
    "# print(time_diff.total_seconds())\n",
    "# print(time_diff.second)\n",
    "# print(time_diff.minute)\n",
    "# print(time_diff.hour)\n",
    "\n",
    "for k in range(t_range):\n",
    "    user_id = transition_times.loc[k].at['userId']\n",
    "    curr_action = transition_times.loc[k].at['action']\n",
    "\n",
    "    if curr_action == 'recommender-change':\n",
    "        curr_time = transition_times.loc[k].at['tstamp']\n",
    "        time_diff = curr_time - prev_time\n",
    "        seconds = time_diff.total_seconds()\n",
    "\n",
    "        times_dict[user_id] = time_diff + times_dict.get(userId, 0)\n",
    "\n",
    "    \n",
    "# ORDER BY timestamp \n",
    "# how would you do this for one user sorted by timestamp?\n",
    "# what is the precise output for this problem? what is the output -- to represent the results?\n",
    "\n"
   ]
  },
  {
   "cell_type": "code",
   "execution_count": null,
   "metadata": {},
   "outputs": [],
   "source": [
    "# CALCULATING NUMBER OF USERS \n",
    "query_users = ''' SELECT distinct userId from ML3_mirror.user_login WHERE \n",
    "                    tstamp>'2014-11-04' AND tstamp<'2015-04-01' '''\n",
    "# query_users = ''' SELECT userId, firstLogin, lastLogin from ML3_mirror.user_data \n",
    "#                   WHERE user_data.firstLogin < '2015-04-01' and user_data.firstLogin>'2014-11-03' \n",
    "#                   and user_data.excludeFromExperiments='N' and user_data.isDeleted = 0 \n",
    "#                    '''\n",
    "# query_users = ''' SELECT userId from ML3_mirror.expt_user WHERE started>'2014-11-04' AND started<'2015-01-26' '''\n",
    "users = SSH_connection(query_users)\n",
    "# users_count = count_norepeat(users, 'userId')\n",
    "print(\"Users: {}\".format(users.count()['userId']))\n",
    "print(users.head)\n",
    "#4651\n",
    "#userId, firstLogin, lastLogin, excludeFromExperiments, isDeleted\n",
    "#Am I asking this correctly? | Am I asking the right thing?\n",
    "# choose some qualifications for users that need to be accounted for in this study | there isn't one correct choice -- but think about why a choice could be incorrect\n"
   ]
  },
  {
   "cell_type": "code",
   "execution_count": null,
   "metadata": {},
   "outputs": [],
   "source": [
    "# choose users with the same firstLogin day -- e.g. all users who first logged in on 2016-04-01\n",
    "# choose a timeframe for observation (what is a good range? why? | 7 months-1 year | LONGER IS BETTER) -- e.g. from 2016-04-01 to 2017-04-01 | is this enough time to get fair results?\n",
    "# observe where users perform their first and last recommender change wrt the chosen time period\n",
    "# observe intermediary actions on a monthly basis -- actions summary for each month/ each quarter during the observation period | per quarter | per session makes the most sense\n",
    "# this analysis can help answer 'what do users experiment with towards the beginning of their use of MovieLens versus 7 months into using the platform?'\n",
    "# 'are there noticeable patterns in actions leading to a recommender change?'\n",
    "# can be extended to different time periods and different firstLogin days | results can be compared for such time periods"
   ]
  },
  {
   "cell_type": "code",
   "execution_count": 40,
   "metadata": {},
   "outputs": [],
   "source": [
    "def first_occurence(df, action, fields):\n",
    "    users_counted = []\n",
    "    change_tstamps = {}\n",
    "\n",
    "    key = fields[0]\n",
    "    count_of = fields[1]\n",
    "    val = fields[2]\n",
    "    rows = df.shape[0]\n",
    "    \n",
    "    for k in range(rows):\n",
    "        userId = df.loc[k].at[key]\n",
    "\n",
    "        if df.loc[k].at[count_of]==action and userId not in users_counted: # not in -- linear search; can write binary\n",
    "            users_counted.append(userId)\n",
    "            change_tstamps[userId] = df.loc[k].at[val]\n",
    "    \n",
    "    return change_tstamps\n"
   ]
  },
  {
   "cell_type": "code",
   "execution_count": 21,
   "metadata": {},
   "outputs": [],
   "source": [
    "from datetime import datetime, timedelta"
   ]
  },
  {
   "cell_type": "code",
   "execution_count": 31,
   "metadata": {},
   "outputs": [],
   "source": [
    "def remove_rows(df, desired_diff):\n",
    "    alt_df = df\n",
    "    rows = alt_df.shape[0]\n",
    "    for k in range(rows):\n",
    "        firstLogin = alt_df.loc[k].at['firstLogin']\n",
    "        lastLogin = alt_df.loc[k].at['lastLogin']\n",
    "        diff = lastLogin - firstLogin\n",
    "\n",
    "        if diff.days<desired_diff:\n",
    "            alt_df = alt_df.drop(k, 0)\n",
    "\n",
    "    return alt_df.shape[0]"
   ]
  },
  {
   "cell_type": "code",
   "execution_count": 34,
   "metadata": {},
   "outputs": [
    {
     "name": "stdout",
     "output_type": "stream",
     "text": [
      "connection done\n",
      "None removed:  2930\n",
      "Removing if diff<10:  739\n",
      "Removing if diff<30:  550\n",
      "Removing if diff<90:  422\n",
      "Removing if diff<180:  301\n"
     ]
    }
   ],
   "source": [
    "query = ''' SELECT userId, firstLogin, lastLogin from ML3_mirror.user_data WHERE EXISTS\n",
    "            (SELECT userId from ML3_mirror.log_action WHERE tstamp<'2021-09-01' AND tstamp>'2021-05-31' AND user_data.userId=log_action.userId)\n",
    "            AND firstLogin<'2021-09-01' AND firstLogin>'2021-05-31' '''\n",
    "first_Logins = SSH_connection(query)\n",
    "print(\"None removed: \", first_Logins.shape[0])\n",
    "# first_Logins.head()\n",
    "\n",
    "print(\"Removing if diff<10: \", remove_rows(first_Logins, 10))\n",
    "print(\"Removing if diff<30: \", remove_rows(first_Logins, 30))\n",
    "print(\"Removing if diff<90: \", remove_rows(first_Logins, 90))\n",
    "print(\"Removing if diff<180: \", remove_rows(first_Logins, 180))"
   ]
  },
  {
   "cell_type": "code",
   "execution_count": 30,
   "metadata": {},
   "outputs": [
    {
     "name": "stdout",
     "output_type": "stream",
     "text": [
      "connection done\n",
      "2930\n",
      "739\n"
     ]
    }
   ],
   "source": [
    "#users who logged in within 2021-06-01 - 2021-08-31\n",
    "#2899\n",
    "\n",
    "#3120\n",
    "#3119\n",
    "# and firstLogin is NOT NULL\n",
    "# AND userId>0 \n",
    "# AND isDeleted=0\n",
    "# AND isAdmin=0\n",
    "# \n",
    "# print(first_Logins.loc[0].at['userId'])\n",
    "# first_login_user1 = first_Logins.loc[0].at['firstLogin']\n",
    "# print(first_login_user1)\n",
    "\n",
    "# for k in range(30):\n",
    "#     print(first_Logins.loc[k])\n",
    "\n",
    "\n",
    "\n",
    "# firstLogin = first_Logins.loc[0].at['firstLogin']\n",
    "# lastLogin = first_Logins.loc[65].at['lastLogin']\n",
    "# diff = lastLogin-firstLogin\n",
    "# print(type(diff))\n",
    "# print(diff.days)\n",
    "\n",
    "# if diff.days<180:\n",
    "#     print('lesser')\n",
    "\n",
    "# (SELECT userId, loginName, firstLogin, lastLogin, tstamp from ML3_mirror.user_data \n",
    "#              WHERE firstLogin<'2021-09-01' AND firstLogin>'2021-06-01') \n",
    "# query = ''' SELECT userId, loginId, action, tstamp from ML3_mirror.log_action WHERE EXISTS \n",
    "#             (SELECT userId from ML3_mirror.user_data WHERE user_data.firstLogin<'2021-09-01' AND user_data.firstLogin>'2021-06-01'\n",
    "#             AND log_action.userId = user_data.userId)\n",
    "#             AND log_action.tstamp<'2021-09-01' AND log_action.tstamp>'2021-06-01' '''\n",
    "# users_df = SSH_connection(query)\n",
    "\n",
    "# tstamps_dict = first_occurence(users_df, 'recommender-change', ('userId', 'action', 'tstamp'))\n",
    "# first_change = tstamps_dict[374395]\n",
    "# print(first_change)\n",
    "\n",
    "# rows = first_Logins.shape[0]\n",
    "\n",
    "# for i in range(rows):\n",
    "#     userId = first_Logins.loc[i].at['userId']\n",
    "#     change_at = pd.to_datetime(tstamps_dict[userId])\n",
    "#     diff = change_at.date - first_Logins.loc[i].at['firstLogin']\n",
    "#     tstamps_dict[userId] = diff.total_seconds()\n",
    "\n",
    "\n",
    "# k=0\n",
    "# for key,val in tstamps_dict:\n",
    "#     if k <6:\n",
    "#         print(key, val)\n",
    "#     else:\n",
    "#         break\n",
    "#     k += 1\n",
    "\n",
    "# print(users_df)\n"
   ]
  },
  {
   "cell_type": "code",
   "execution_count": null,
   "metadata": {},
   "outputs": [],
   "source": []
  }
 ],
 "metadata": {
  "interpreter": {
   "hash": "7734ee770e0c8b561a7eea3db918f39df973dd62a4c50ecc5a7d7145864e7eef"
  },
  "kernelspec": {
   "display_name": "Python 3.8.6 64-bit ('3.8.6')",
   "language": "python",
   "name": "python3"
  },
  "language_info": {
   "codemirror_mode": {
    "name": "ipython",
    "version": 3
   },
   "file_extension": ".py",
   "mimetype": "text/x-python",
   "name": "python",
   "nbconvert_exporter": "python",
   "pygments_lexer": "ipython3",
   "version": "3.9.9"
  },
  "orig_nbformat": 4
 },
 "nbformat": 4,
 "nbformat_minor": 2
}
